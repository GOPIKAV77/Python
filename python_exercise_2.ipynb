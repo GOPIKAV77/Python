{
  "cells": [
    {
      "cell_type": "markdown",
      "metadata": {
        "id": "view-in-github",
        "colab_type": "text"
      },
      "source": [
        "<a href=\"https://colab.research.google.com/github/GOPIKAV77/Python/blob/main/python_exercise_2.ipynb\" target=\"_parent\"><img src=\"https://colab.research.google.com/assets/colab-badge.svg\" alt=\"Open In Colab\"/></a>"
      ]
    },
    {
      "cell_type": "code",
      "source": [
        "# Gets a sentence from user converts uppercase to lowercase and counts the number of times a word appeared"
      ],
      "metadata": {
        "id": "jkjdixs-vd9y"
      },
      "execution_count": null,
      "outputs": []
    },
    {
      "cell_type": "code",
      "source": [
        "print(\"Enter a sentence: \")\n",
        "sentence = input()\n",
        "\n",
        "lowercase_Sentence = \"\"\n",
        "for char in sentence:\n",
        "  if 'A'<= char <= 'Z':\n",
        "    lowercase_Sentence+=chr(ord(char)+32)\n",
        "\n",
        "  else:\n",
        "    lowercase_Sentence += char\n",
        "\n",
        "alphabet_count = {}\n",
        "\n",
        "for char in lowercase_Sentence:\n",
        "  if 'a'<= char <='z':\n",
        "    if char not in alphabet_count:\n",
        "      alphabet_count[char] = 1\n",
        "    else:\n",
        "      alphabet_count[char] += 1\n",
        "\n",
        "for key in alphabet_count:\n",
        "  print(key+\"-\"+str(alphabet_count[key]))"
      ],
      "metadata": {
        "colab": {
          "base_uri": "https://localhost:8080/"
        },
        "id": "xc2IuBeoveDW",
        "outputId": "76f3dbb4-5eae-458b-f022-3e4e2067ffa7"
      },
      "execution_count": 5,
      "outputs": [
        {
          "output_type": "stream",
          "name": "stdout",
          "text": [
            "Enter a sentence: \n",
            "Python is a programming language developed by Guido Van Rossum\n",
            "p-3\n",
            "y-2\n",
            "t-1\n",
            "h-1\n",
            "o-5\n",
            "n-4\n",
            "i-3\n",
            "s-3\n",
            "a-5\n",
            "r-3\n",
            "g-5\n",
            "m-3\n",
            "l-2\n",
            "u-3\n",
            "e-4\n",
            "d-3\n",
            "v-2\n",
            "b-1\n"
          ]
        }
      ]
    }
  ],
  "metadata": {
    "colab": {
      "provenance": [],
      "authorship_tag": "ABX9TyOPnH96L761KQQ2F22lExvn",
      "include_colab_link": true
    },
    "kernelspec": {
      "display_name": "Python 3",
      "name": "python3"
    },
    "language_info": {
      "name": "python"
    }
  },
  "nbformat": 4,
  "nbformat_minor": 0
}