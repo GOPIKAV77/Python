{
  "nbformat": 4,
  "nbformat_minor": 0,
  "metadata": {
    "colab": {
      "provenance": [],
      "authorship_tag": "ABX9TyMjIVw21Uhf77K3d40o1PE1",
      "include_colab_link": true
    },
    "kernelspec": {
      "name": "python3",
      "display_name": "Python 3"
    },
    "language_info": {
      "name": "python"
    }
  },
  "cells": [
    {
      "cell_type": "markdown",
      "metadata": {
        "id": "view-in-github",
        "colab_type": "text"
      },
      "source": [
        "<a href=\"https://colab.research.google.com/github/GOPIKAV77/Python/blob/main/Standardized_residuals_qqplot_truck_dataset.ipynb\" target=\"_parent\"><img src=\"https://colab.research.google.com/assets/colab-badge.svg\" alt=\"Open In Colab\"/></a>"
      ]
    },
    {
      "cell_type": "code",
      "source": [
        "import numpy as np\n",
        "import pandas as pd\n",
        "import matplotlib.pyplot as plt\n",
        "import seaborn as sns\n",
        "\n",
        "df = pd.read_excel(\"TRUCKING.xlsx\")\n",
        "df.head(7)"
      ],
      "metadata": {
        "colab": {
          "base_uri": "https://localhost:8080/",
          "height": 269
        },
        "id": "sVLJcJdkIyX5",
        "outputId": "c3be4fe9-b981-48e2-d402-0ba0b901a262"
      },
      "execution_count": 1,
      "outputs": [
        {
          "output_type": "execute_result",
          "data": {
            "text/plain": [
              "   Driving Assignmnet   x1  n_of_deliveries  travel_time\n",
              "0                   1  100                4          9.3\n",
              "1                   2   50                3          4.8\n",
              "2                   3  100                4          8.9\n",
              "3                   4  100                2          6.5\n",
              "4                   5   50                2          4.2\n",
              "5                   6   80                2          6.2\n",
              "6                   7   75                3          7.4"
            ],
            "text/html": [
              "\n",
              "  <div id=\"df-759978fd-a0df-4eeb-afb9-424eba8f445f\" class=\"colab-df-container\">\n",
              "    <div>\n",
              "<style scoped>\n",
              "    .dataframe tbody tr th:only-of-type {\n",
              "        vertical-align: middle;\n",
              "    }\n",
              "\n",
              "    .dataframe tbody tr th {\n",
              "        vertical-align: top;\n",
              "    }\n",
              "\n",
              "    .dataframe thead th {\n",
              "        text-align: right;\n",
              "    }\n",
              "</style>\n",
              "<table border=\"1\" class=\"dataframe\">\n",
              "  <thead>\n",
              "    <tr style=\"text-align: right;\">\n",
              "      <th></th>\n",
              "      <th>Driving Assignmnet</th>\n",
              "      <th>x1</th>\n",
              "      <th>n_of_deliveries</th>\n",
              "      <th>travel_time</th>\n",
              "    </tr>\n",
              "  </thead>\n",
              "  <tbody>\n",
              "    <tr>\n",
              "      <th>0</th>\n",
              "      <td>1</td>\n",
              "      <td>100</td>\n",
              "      <td>4</td>\n",
              "      <td>9.3</td>\n",
              "    </tr>\n",
              "    <tr>\n",
              "      <th>1</th>\n",
              "      <td>2</td>\n",
              "      <td>50</td>\n",
              "      <td>3</td>\n",
              "      <td>4.8</td>\n",
              "    </tr>\n",
              "    <tr>\n",
              "      <th>2</th>\n",
              "      <td>3</td>\n",
              "      <td>100</td>\n",
              "      <td>4</td>\n",
              "      <td>8.9</td>\n",
              "    </tr>\n",
              "    <tr>\n",
              "      <th>3</th>\n",
              "      <td>4</td>\n",
              "      <td>100</td>\n",
              "      <td>2</td>\n",
              "      <td>6.5</td>\n",
              "    </tr>\n",
              "    <tr>\n",
              "      <th>4</th>\n",
              "      <td>5</td>\n",
              "      <td>50</td>\n",
              "      <td>2</td>\n",
              "      <td>4.2</td>\n",
              "    </tr>\n",
              "    <tr>\n",
              "      <th>5</th>\n",
              "      <td>6</td>\n",
              "      <td>80</td>\n",
              "      <td>2</td>\n",
              "      <td>6.2</td>\n",
              "    </tr>\n",
              "    <tr>\n",
              "      <th>6</th>\n",
              "      <td>7</td>\n",
              "      <td>75</td>\n",
              "      <td>3</td>\n",
              "      <td>7.4</td>\n",
              "    </tr>\n",
              "  </tbody>\n",
              "</table>\n",
              "</div>\n",
              "    <div class=\"colab-df-buttons\">\n",
              "\n",
              "  <div class=\"colab-df-container\">\n",
              "    <button class=\"colab-df-convert\" onclick=\"convertToInteractive('df-759978fd-a0df-4eeb-afb9-424eba8f445f')\"\n",
              "            title=\"Convert this dataframe to an interactive table.\"\n",
              "            style=\"display:none;\">\n",
              "\n",
              "  <svg xmlns=\"http://www.w3.org/2000/svg\" height=\"24px\" viewBox=\"0 -960 960 960\">\n",
              "    <path d=\"M120-120v-720h720v720H120Zm60-500h600v-160H180v160Zm220 220h160v-160H400v160Zm0 220h160v-160H400v160ZM180-400h160v-160H180v160Zm440 0h160v-160H620v160ZM180-180h160v-160H180v160Zm440 0h160v-160H620v160Z\"/>\n",
              "  </svg>\n",
              "    </button>\n",
              "\n",
              "  <style>\n",
              "    .colab-df-container {\n",
              "      display:flex;\n",
              "      gap: 12px;\n",
              "    }\n",
              "\n",
              "    .colab-df-convert {\n",
              "      background-color: #E8F0FE;\n",
              "      border: none;\n",
              "      border-radius: 50%;\n",
              "      cursor: pointer;\n",
              "      display: none;\n",
              "      fill: #1967D2;\n",
              "      height: 32px;\n",
              "      padding: 0 0 0 0;\n",
              "      width: 32px;\n",
              "    }\n",
              "\n",
              "    .colab-df-convert:hover {\n",
              "      background-color: #E2EBFA;\n",
              "      box-shadow: 0px 1px 2px rgba(60, 64, 67, 0.3), 0px 1px 3px 1px rgba(60, 64, 67, 0.15);\n",
              "      fill: #174EA6;\n",
              "    }\n",
              "\n",
              "    .colab-df-buttons div {\n",
              "      margin-bottom: 4px;\n",
              "    }\n",
              "\n",
              "    [theme=dark] .colab-df-convert {\n",
              "      background-color: #3B4455;\n",
              "      fill: #D2E3FC;\n",
              "    }\n",
              "\n",
              "    [theme=dark] .colab-df-convert:hover {\n",
              "      background-color: #434B5C;\n",
              "      box-shadow: 0px 1px 3px 1px rgba(0, 0, 0, 0.15);\n",
              "      filter: drop-shadow(0px 1px 2px rgba(0, 0, 0, 0.3));\n",
              "      fill: #FFFFFF;\n",
              "    }\n",
              "  </style>\n",
              "\n",
              "    <script>\n",
              "      const buttonEl =\n",
              "        document.querySelector('#df-759978fd-a0df-4eeb-afb9-424eba8f445f button.colab-df-convert');\n",
              "      buttonEl.style.display =\n",
              "        google.colab.kernel.accessAllowed ? 'block' : 'none';\n",
              "\n",
              "      async function convertToInteractive(key) {\n",
              "        const element = document.querySelector('#df-759978fd-a0df-4eeb-afb9-424eba8f445f');\n",
              "        const dataTable =\n",
              "          await google.colab.kernel.invokeFunction('convertToInteractive',\n",
              "                                                    [key], {});\n",
              "        if (!dataTable) return;\n",
              "\n",
              "        const docLinkHtml = 'Like what you see? Visit the ' +\n",
              "          '<a target=\"_blank\" href=https://colab.research.google.com/notebooks/data_table.ipynb>data table notebook</a>'\n",
              "          + ' to learn more about interactive tables.';\n",
              "        element.innerHTML = '';\n",
              "        dataTable['output_type'] = 'display_data';\n",
              "        await google.colab.output.renderOutput(dataTable, element);\n",
              "        const docLink = document.createElement('div');\n",
              "        docLink.innerHTML = docLinkHtml;\n",
              "        element.appendChild(docLink);\n",
              "      }\n",
              "    </script>\n",
              "  </div>\n",
              "\n",
              "\n",
              "<div id=\"df-bd2433f2-20a7-41c5-bcd3-bd7ac408fdfb\">\n",
              "  <button class=\"colab-df-quickchart\" onclick=\"quickchart('df-bd2433f2-20a7-41c5-bcd3-bd7ac408fdfb')\"\n",
              "            title=\"Suggest charts\"\n",
              "            style=\"display:none;\">\n",
              "\n",
              "<svg xmlns=\"http://www.w3.org/2000/svg\" height=\"24px\"viewBox=\"0 0 24 24\"\n",
              "     width=\"24px\">\n",
              "    <g>\n",
              "        <path d=\"M19 3H5c-1.1 0-2 .9-2 2v14c0 1.1.9 2 2 2h14c1.1 0 2-.9 2-2V5c0-1.1-.9-2-2-2zM9 17H7v-7h2v7zm4 0h-2V7h2v10zm4 0h-2v-4h2v4z\"/>\n",
              "    </g>\n",
              "</svg>\n",
              "  </button>\n",
              "\n",
              "<style>\n",
              "  .colab-df-quickchart {\n",
              "      --bg-color: #E8F0FE;\n",
              "      --fill-color: #1967D2;\n",
              "      --hover-bg-color: #E2EBFA;\n",
              "      --hover-fill-color: #174EA6;\n",
              "      --disabled-fill-color: #AAA;\n",
              "      --disabled-bg-color: #DDD;\n",
              "  }\n",
              "\n",
              "  [theme=dark] .colab-df-quickchart {\n",
              "      --bg-color: #3B4455;\n",
              "      --fill-color: #D2E3FC;\n",
              "      --hover-bg-color: #434B5C;\n",
              "      --hover-fill-color: #FFFFFF;\n",
              "      --disabled-bg-color: #3B4455;\n",
              "      --disabled-fill-color: #666;\n",
              "  }\n",
              "\n",
              "  .colab-df-quickchart {\n",
              "    background-color: var(--bg-color);\n",
              "    border: none;\n",
              "    border-radius: 50%;\n",
              "    cursor: pointer;\n",
              "    display: none;\n",
              "    fill: var(--fill-color);\n",
              "    height: 32px;\n",
              "    padding: 0;\n",
              "    width: 32px;\n",
              "  }\n",
              "\n",
              "  .colab-df-quickchart:hover {\n",
              "    background-color: var(--hover-bg-color);\n",
              "    box-shadow: 0 1px 2px rgba(60, 64, 67, 0.3), 0 1px 3px 1px rgba(60, 64, 67, 0.15);\n",
              "    fill: var(--button-hover-fill-color);\n",
              "  }\n",
              "\n",
              "  .colab-df-quickchart-complete:disabled,\n",
              "  .colab-df-quickchart-complete:disabled:hover {\n",
              "    background-color: var(--disabled-bg-color);\n",
              "    fill: var(--disabled-fill-color);\n",
              "    box-shadow: none;\n",
              "  }\n",
              "\n",
              "  .colab-df-spinner {\n",
              "    border: 2px solid var(--fill-color);\n",
              "    border-color: transparent;\n",
              "    border-bottom-color: var(--fill-color);\n",
              "    animation:\n",
              "      spin 1s steps(1) infinite;\n",
              "  }\n",
              "\n",
              "  @keyframes spin {\n",
              "    0% {\n",
              "      border-color: transparent;\n",
              "      border-bottom-color: var(--fill-color);\n",
              "      border-left-color: var(--fill-color);\n",
              "    }\n",
              "    20% {\n",
              "      border-color: transparent;\n",
              "      border-left-color: var(--fill-color);\n",
              "      border-top-color: var(--fill-color);\n",
              "    }\n",
              "    30% {\n",
              "      border-color: transparent;\n",
              "      border-left-color: var(--fill-color);\n",
              "      border-top-color: var(--fill-color);\n",
              "      border-right-color: var(--fill-color);\n",
              "    }\n",
              "    40% {\n",
              "      border-color: transparent;\n",
              "      border-right-color: var(--fill-color);\n",
              "      border-top-color: var(--fill-color);\n",
              "    }\n",
              "    60% {\n",
              "      border-color: transparent;\n",
              "      border-right-color: var(--fill-color);\n",
              "    }\n",
              "    80% {\n",
              "      border-color: transparent;\n",
              "      border-right-color: var(--fill-color);\n",
              "      border-bottom-color: var(--fill-color);\n",
              "    }\n",
              "    90% {\n",
              "      border-color: transparent;\n",
              "      border-bottom-color: var(--fill-color);\n",
              "    }\n",
              "  }\n",
              "</style>\n",
              "\n",
              "  <script>\n",
              "    async function quickchart(key) {\n",
              "      const quickchartButtonEl =\n",
              "        document.querySelector('#' + key + ' button');\n",
              "      quickchartButtonEl.disabled = true;  // To prevent multiple clicks.\n",
              "      quickchartButtonEl.classList.add('colab-df-spinner');\n",
              "      try {\n",
              "        const charts = await google.colab.kernel.invokeFunction(\n",
              "            'suggestCharts', [key], {});\n",
              "      } catch (error) {\n",
              "        console.error('Error during call to suggestCharts:', error);\n",
              "      }\n",
              "      quickchartButtonEl.classList.remove('colab-df-spinner');\n",
              "      quickchartButtonEl.classList.add('colab-df-quickchart-complete');\n",
              "    }\n",
              "    (() => {\n",
              "      let quickchartButtonEl =\n",
              "        document.querySelector('#df-bd2433f2-20a7-41c5-bcd3-bd7ac408fdfb button');\n",
              "      quickchartButtonEl.style.display =\n",
              "        google.colab.kernel.accessAllowed ? 'block' : 'none';\n",
              "    })();\n",
              "  </script>\n",
              "</div>\n",
              "\n",
              "    </div>\n",
              "  </div>\n"
            ],
            "application/vnd.google.colaboratory.intrinsic+json": {
              "type": "dataframe",
              "variable_name": "df",
              "summary": "{\n  \"name\": \"df\",\n  \"rows\": 10,\n  \"fields\": [\n    {\n      \"column\": \"Driving Assignmnet\",\n      \"properties\": {\n        \"dtype\": \"number\",\n        \"std\": 3,\n        \"min\": 1,\n        \"max\": 10,\n        \"num_unique_values\": 10,\n        \"samples\": [\n          9,\n          2,\n          6\n        ],\n        \"semantic_type\": \"\",\n        \"description\": \"\"\n      }\n    },\n    {\n      \"column\": \"x1\",\n      \"properties\": {\n        \"dtype\": \"number\",\n        \"std\": 19,\n        \"min\": 50,\n        \"max\": 100,\n        \"num_unique_values\": 6,\n        \"samples\": [\n          100,\n          50,\n          90\n        ],\n        \"semantic_type\": \"\",\n        \"description\": \"\"\n      }\n    },\n    {\n      \"column\": \"n_of_deliveries\",\n      \"properties\": {\n        \"dtype\": \"number\",\n        \"std\": 0,\n        \"min\": 2,\n        \"max\": 4,\n        \"num_unique_values\": 3,\n        \"samples\": [\n          4,\n          3,\n          2\n        ],\n        \"semantic_type\": \"\",\n        \"description\": \"\"\n      }\n    },\n    {\n      \"column\": \"travel_time\",\n      \"properties\": {\n        \"dtype\": \"number\",\n        \"std\": 1.6295875415440426,\n        \"min\": 4.2,\n        \"max\": 9.3,\n        \"num_unique_values\": 10,\n        \"samples\": [\n          7.6,\n          4.8,\n          6.2\n        ],\n        \"semantic_type\": \"\",\n        \"description\": \"\"\n      }\n    }\n  ]\n}"
            }
          },
          "metadata": {},
          "execution_count": 1
        }
      ]
    },
    {
      "cell_type": "markdown",
      "source": [
        "A residual plot is used to visualize the difference  between the observed and predicted values.\n",
        "\n",
        "Residual Plot is helpful to know about the accuracy and  how the regression model is fitting the data .An ideal plot is one that is scattered aroud zero.\n",
        "\n",
        "Here, n_of_deliveries is the independent variable and travel_time is the dependent variable.\n"
      ],
      "metadata": {
        "id": "giEF3fKkP8jF"
      }
    },
    {
      "cell_type": "code",
      "source": [
        "sns.residplot(x=df[\"n_of_deliveries\"],y=df[\"travel_time\"],data = df,color='g')"
      ],
      "metadata": {
        "colab": {
          "base_uri": "https://localhost:8080/",
          "height": 471
        },
        "id": "T4MvQyENIyb5",
        "outputId": "fd817f15-2455-487a-9994-a0e5bfb2aef8"
      },
      "execution_count": 3,
      "outputs": [
        {
          "output_type": "execute_result",
          "data": {
            "text/plain": [
              "<Axes: xlabel='n_of_deliveries', ylabel='travel_time'>"
            ]
          },
          "metadata": {},
          "execution_count": 3
        },
        {
          "output_type": "display_data",
          "data": {
            "text/plain": [
              "<Figure size 640x480 with 1 Axes>"
            ],
            "image/png": "[encoded data removed]"
          },
          "metadata": {}
        }
      ]
    },
    {
      "cell_type": "code",
      "source": [
        "from statsmodels.formula.api import ols\n",
        "from statsmodels.stats.anova import anova_lm"
      ],
      "metadata": {
        "id": "oY9KV9spIyfx"
      },
      "execution_count": 4,
      "outputs": []
    },
    {
      "cell_type": "markdown",
      "source": [
        "First, importing ols function from statsmodels.formula.api. The ordinary least squares is used to perform linear regression.\n",
        "\n",
        "Second, we import anova_lm from statsmodels.stats.anova. The anova_lm function performs Analysis of Variance on a fitted model.It helps understand the significance of model and variables within it.\n"
      ],
      "metadata": {
        "id": "9sxl2oZOg6WF"
      }
    },
    {
      "cell_type": "code",
      "source": [
        "reg = ols(\"travel_time~n_of_deliveries\",data=df)\n",
        "fit = reg.fit()\n",
        "print(fit.summary())"
      ],
      "metadata": {
        "colab": {
          "base_uri": "https://localhost:8080/"
        },
        "id": "IuzXYae3IyjE",
        "outputId": "2775fa31-1ac9-48f6-ba23-76e1d581eed7"
      },
      "execution_count": 5,
      "outputs": [
        {
          "output_type": "stream",
          "name": "stdout",
          "text": [
            "                            OLS Regression Results                            \n",
            "==============================================================================\n",
            "Dep. Variable:            travel_time   R-squared:                       0.378\n",
            "Model:                            OLS   Adj. R-squared:                  0.301\n",
            "Method:                 Least Squares   F-statistic:                     4.871\n",
            "Date:                Tue, 18 Feb 2025   Prob (F-statistic):             0.0583\n",
            "Time:                        13:10:13   Log-Likelihood:                -16.168\n",
            "No. Observations:                  10   AIC:                             36.34\n",
            "Df Residuals:                       8   BIC:                             36.94\n",
            "Df Model:                           1                                         \n",
            "Covariance Type:            nonrobust                                         \n",
            "===================================================================================\n",
            "                      coef    std err          t      P>|t|      [0.025      0.975]\n",
            "-----------------------------------------------------------------------------------\n",
            "Intercept           3.3797      1.565      2.160      0.063      -0.229       6.988\n",
            "n_of_deliveries     1.1449      0.519      2.207      0.058      -0.051       2.341\n",
            "==============================================================================\n",
            "Omnibus:                        2.537   Durbin-Watson:                   2.924\n",
            "Prob(Omnibus):                  0.281   Jarque-Bera (JB):                1.562\n",
            "Skew:                          -0.781   Prob(JB):                        0.458\n",
            "Kurtosis:                       1.857   Cond. No.                         12.1\n",
            "==============================================================================\n",
            "\n",
            "Notes:\n",
            "[1] Standard Errors assume that the covariance matrix of the errors is correctly specified.\n"
          ]
        },
        {
          "output_type": "stream",
          "name": "stderr",
          "text": [
            "/usr/local/lib/python3.11/dist-packages/scipy/stats/_axis_nan_policy.py:531: UserWarning: kurtosistest only valid for n>=20 ... continuing anyway, n=10\n",
            "  res = hypotest_fun_out(*samples, **kwds)\n"
          ]
        }
      ]
    },
    {
      "cell_type": "markdown",
      "source": [
        "Explanation:\n",
        "The travel_time is the dependent variable we are trying to predict. OLs is the method used.\n",
        "R-squared 0.378: About 37.8% od the variability of the vatiability in the travel_time can be explained by n_of_deliveries.\n",
        "\n",
        "Adj.R-squared 0.301: The adjusted R-squared value is lower than R-squared value and accounts for the number of accounts.\n",
        "\n",
        "F-statistic 4.871: This value tests the overall significance of the model\n",
        "\n",
        "Prob(F-statistic) 0.0583: This is the p-value for the F-statistic. Since it is close to 0.05, it suggests that model is statistically significant.\n",
        "\n",
        "intercept(3.3797): Expected value of travel_time when n_of_deliveries is zero.\n",
        "\n",
        "std err 1.565: The standard error of intercept.\n",
        "\n",
        "t 2.160: The t-static for the intercept\n",
        "\n",
        "p>0.063: Since it is gretaer than 0.05 it is statsitically not significant.\n",
        "\n",
        "Omnibus 2.537: A test for the normality of residuals.\n",
        "\n",
        "prob(Omnibus) 0.281: The p-value for the Omnibus test.\n",
        "\n",
        "Skew -0.781: A measure of asymmetry of the residuals.\n",
        "kurtosis 1.857: A measure of the tailedness of the residuals\n"
      ],
      "metadata": {
        "id": "L0W4Caeaksve"
      }
    },
    {
      "cell_type": "code",
      "source": [
        "print(anova_lm(fit))\n"
      ],
      "metadata": {
        "colab": {
          "base_uri": "https://localhost:8080/"
        },
        "id": "RbwTqglbIymh",
        "outputId": "a268f6a7-32d6-45ac-aa2b-54b92a25ea68"
      },
      "execution_count": 7,
      "outputs": [
        {
          "output_type": "stream",
          "name": "stdout",
          "text": [
            "                  df     sum_sq   mean_sq         F   PR(>F)\n",
            "n_of_deliveries  1.0   9.044928  9.044928  4.871024  0.05835\n",
            "Residual         8.0  14.855072  1.856884       NaN      NaN\n"
          ]
        }
      ]
    },
    {
      "cell_type": "markdown",
      "source": [
        "This explains the variation\n",
        "\n",
        "df n_of_deliveries: 1, since it is a single variable\n",
        "\n",
        "Residual: 8.0, calculated as the total observation minus the number of parameters\n",
        "\n",
        "sum_sq(sum of squares):\n",
        "n_of_deliveries: Total variation explained by the number of deliveries\n",
        "\n",
        "Residual: The total variation not explained by the model\n",
        "\n",
        "mean_sq:\n",
        "n_of_deliveries: calculated by the sum of squares divided by degrees of freedom\n",
        "\n",
        "F-value: Test statistic for the significance of variable.\n",
        "\n",
        "p-value- the probbaility that observed F-value would occur if the null hypothesis were true.\n",
        "\n",
        "for Residual, F-value and p value are both NaN because it is a independent variable.\n"
      ],
      "metadata": {
        "id": "ofadCzhKsj_3"
      }
    },
    {
      "cell_type": "markdown",
      "source": [
        "STANDARDIZED RESIDUALS"
      ],
      "metadata": {
        "id": "n_J6CvezLxSE"
      }
    },
    {
      "cell_type": "code",
      "source": [
        "influence = fit.get_influence()\n",
        "resid_students = influence.resid_studentized_external"
      ],
      "metadata": {
        "id": "oWu8Ae9fLxGD"
      },
      "execution_count": 8,
      "outputs": []
    },
    {
      "cell_type": "markdown",
      "source": [
        "The fit.get_influence() method provides measures of influence and dignostic values for regression model.\n",
        "resid_studentized_externel: The attribute provides the studentized residuals, which are the residuals divided by estimate of standard deviation."
      ],
      "metadata": {
        "id": "C_pZpbBbwQVt"
      }
    },
    {
      "cell_type": "code",
      "source": [
        "resid_students"
      ],
      "metadata": {
        "colab": {
          "base_uri": "https://localhost:8080/"
        },
        "id": "CSM_fKBbIyyZ",
        "outputId": "0ddb3478-f642-4521-d6c9-ef82c70dbaa8"
      },
      "execution_count": 9,
      "outputs": [
        {
          "output_type": "execute_result",
          "data": {
            "text/plain": [
              "array([ 1.18442782, -1.74867967,  0.79171585,  0.66439074, -1.26372518,\n",
              "        0.41666906,  0.42955867, -1.96997137,  0.58246215,  0.3366938 ])"
            ]
          },
          "metadata": {},
          "execution_count": 9
        }
      ]
    },
    {
      "cell_type": "code",
      "source": [
        "plt.figure()\n",
        "plt.scatter(df[\"n_of_deliveries\"],resid_students,color=\"green\")"
      ],
      "metadata": {
        "colab": {
          "base_uri": "https://localhost:8080/",
          "height": 447
        },
        "id": "KYD_Pav7Iy2m",
        "outputId": "9838f7a1-cd98-4e46-b79a-8ade24a063d9"
      },
      "execution_count": 11,
      "outputs": [
        {
          "output_type": "execute_result",
          "data": {
            "text/plain": [
              "<matplotlib.collections.PathCollection at 0x7fe372669510>"
            ]
          },
          "metadata": {},
          "execution_count": 11
        },
        {
          "output_type": "display_data",
          "data": {
            "text/plain": [
              "<Figure size 640x480 with 1 Axes>"
            ],
            "image/png": "[encoded data removed]"
          },
          "metadata": {}
        }
      ]
    },
    {
      "cell_type": "code",
      "source": [
        "from scipy import stats\n",
        "import statsmodels.api as sm\n",
        "res = fit.resid\n",
        "probplot = sm.ProbPlot(res,stats.norm, fit=True)\n",
        "fig = probplot.qqplot(line=\"45\")\n",
        "h = plt.title(\"qqplot~residual of OLS fit\")\n",
        "plt.show()"
      ],
      "metadata": {
        "colab": {
          "base_uri": "https://localhost:8080/",
          "height": 472
        },
        "id": "11ROkUckIy5o",
        "outputId": "70de6437-5a6f-4c75-adb7-7b92d6a29c70"
      },
      "execution_count": 12,
      "outputs": [
        {
          "output_type": "display_data",
          "data": {
            "text/plain": [
              "<Figure size 640x480 with 1 Axes>"
            ],
            "image/png": "[encoded data removed]"
          },
          "metadata": {}
        }
      ]
    },
    {
      "cell_type": "markdown",
      "source": [
        "fit.resid: extracts the residuals from the fitted OLS model.\n",
        "sm.ProbPlot: creates a probability plot object using the residuals and a normal distribution.\n",
        "Q-Qplot: To check normality of residuals from the OLS regression model."
      ],
      "metadata": {
        "id": "TpxAuM2Iw_6T"
      }
    }
  ]
}