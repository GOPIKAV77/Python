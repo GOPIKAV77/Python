{
  "cells": [
    {
      "cell_type": "markdown",
      "metadata": {
        "id": "view-in-github",
        "colab_type": "text"
      },
      "source": [
        "<a href=\"https://colab.research.google.com/github/GOPIKAV77/Python/blob/main/example_1.ipynb\" target=\"_parent\"><img src=\"https://colab.research.google.com/assets/colab-badge.svg\" alt=\"Open In Colab\"/></a>"
      ]
    },
    {
      "cell_type": "code",
      "source": [
        "bottles_number = int(input(\"Enter the number of bottles:\"))\n",
        "can_number = 24\n",
        "\n",
        "print(f\"The number of bottles is:{ bottles_number:>10}\")\n",
        "print(f\"The number of cans is:{can_number:>10}\")\n",
        "print(f\"Total:{bottles_number+can_number:>10}\")"
      ],
      "metadata": {
        "id": "cT7fIUkpiQyV",
        "colab": {
          "base_uri": "https://localhost:8080/"
        },
        "outputId": "710bbb31-7e54-49d8-b78a-6e45208fc8b6"
      },
      "execution_count": 2,
      "outputs": [
        {
          "output_type": "stream",
          "name": "stdout",
          "text": [
            "Enter the number of bottles:8\n",
            "The number of bottles is:         8\n",
            "The number of cans is:        24\n",
            "Total:        32\n"
          ]
        }
      ]
    }
  ],
  "metadata": {
    "colab": {
      "provenance": [],
      "authorship_tag": "ABX9TyOi4hpVyTkgu/FTT3s87He6",
      "include_colab_link": true
    },
    "kernelspec": {
      "display_name": "Python 3",
      "name": "python3"
    },
    "language_info": {
      "name": "python"
    }
  },
  "nbformat": 4,
  "nbformat_minor": 0
}