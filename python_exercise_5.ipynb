{
  "cells": [
    {
      "cell_type": "markdown",
      "metadata": {
        "id": "view-in-github",
        "colab_type": "text"
      },
      "source": [
        "<a href=\"https://colab.research.google.com/github/GOPIKAV77/Python/blob/main/python_exercise_5.ipynb\" target=\"_parent\"><img src=\"https://colab.research.google.com/assets/colab-badge.svg\" alt=\"Open In Colab\"/></a>"
      ]
    },
    {
      "cell_type": "code",
      "source": [
        "#From the menu,enter the food items and print the total bill"
      ],
      "metadata": {
        "id": "BD-SFtjo5ud6"
      },
      "execution_count": null,
      "outputs": []
    },
    {
      "cell_type": "code",
      "source": [
        "\n",
        "menu = {1:{\"name\":\"Burger\",\"price\":90},2:{\"name\":\"Sandwich\",\"price\":90},3:{\"name\":\"coffee\",\"price\":20},4:{\"name\":\"Tea\",\"price\":20},5:{\"name\":\"Juice\",\"price\":50}}\n",
        "\n",
        "def display_menu():\n",
        "  print(\" Menu \")\n",
        "\n",
        "  for item_no, item_name_price in menu.items():\n",
        "    print(f\"{item_no}. {item_name_price['name']} - ${item_name_price['price']}\")\n",
        "\n",
        "def calculate_total(order):\n",
        "  total = 0\n",
        "  for item_no, quantity in order.items():\n",
        "    total += menu[item_no][\"price\"]*quantity\n",
        "  return total\n",
        "\n",
        "\n",
        "def main():\n",
        "    print(\"Welcome to our store!\")\n",
        "    order = {}\n",
        "\n",
        "    while True:\n",
        "      display_menu()\n",
        "\n",
        "      try:\n",
        "        item_no = int(input(\"Enter the item number or enter 6 to exit:\"))\n",
        "\n",
        "        if item_no == 6:\n",
        "          break\n",
        "\n",
        "        if item_no in menu:\n",
        "          quantity = int(input(f\"Enter the number of {menu[item_no]['name']} :\"))\n",
        "          if item_no in order:\n",
        "            order[item_no] += quantity\n",
        "          else:\n",
        "            order[item_no] = quantity\n",
        "        else:\n",
        "          print(\"Invalid item number\")\n",
        "      except ValueError:\n",
        "        print(\"Invalid input\")\n",
        "\n",
        "    total = calculate_total(order)\n",
        "    print(\" Your order summary:\")\n",
        "    for item_no, quantity in order.items():\n",
        "      print(f\"{menu[item_no]['name']}x{quantity} - ${menu[item_no]['price']*quantity}\")\n",
        "    print(f\"Total bill : ${total}\")\n",
        "    print(\"Thank you\")\n",
        "\n",
        "main()\n",
        ""
      ],
      "metadata": {
        "colab": {
          "base_uri": "https://localhost:8080/"
        },
        "id": "LvidOoNIabtI",
        "outputId": "9778f26f-c8c3-4231-edb8-63399d845848"
      },
      "execution_count": 7,
      "outputs": [
        {
          "output_type": "stream",
          "name": "stdout",
          "text": [
            "Welcome to our store!\n",
            " Menu \n",
            "1. Burger - $90\n",
            "2. Sandwich - $90\n",
            "3. coffee - $20\n",
            "4. Tea - $20\n",
            "5. Juice - $50\n",
            "Enter the item number or enter 6 to exit:2\n",
            "Enter the number of Sandwich :1\n",
            " Menu \n",
            "1. Burger - $90\n",
            "2. Sandwich - $90\n",
            "3. coffee - $20\n",
            "4. Tea - $20\n",
            "5. Juice - $50\n",
            "Enter the item number or enter 6 to exit:3\n",
            "Enter the number of coffee :1\n",
            " Menu \n",
            "1. Burger - $90\n",
            "2. Sandwich - $90\n",
            "3. coffee - $20\n",
            "4. Tea - $20\n",
            "5. Juice - $50\n",
            "Enter the item number or enter 6 to exit:6\n",
            " Your order summary:\n",
            "Sandwichx1 - $90\n",
            "coffeex1 - $20\n",
            "Total bill : $110\n",
            "Thank you\n"
          ]
        }
      ]
    }
  ],
  "metadata": {
    "colab": {
      "provenance": [],
      "authorship_tag": "ABX9TyNIhZRTe5YtfyJdqNRgFL1q",
      "include_colab_link": true
    },
    "kernelspec": {
      "display_name": "Python 3",
      "name": "python3"
    },
    "language_info": {
      "name": "python"
    }
  },
  "nbformat": 4,
  "nbformat_minor": 0
}
