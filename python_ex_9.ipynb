{
  "cells": [
    {
      "cell_type": "markdown",
      "metadata": {
        "id": "view-in-github",
        "colab_type": "text"
      },
      "source": [
        "<a href=\"https://colab.research.google.com/github/GOPIKAV77/Python/blob/main/python_ex_9.ipynb\" target=\"_parent\"><img src=\"https://colab.research.google.com/assets/colab-badge.svg\" alt=\"Open In Colab\"/></a>"
      ]
    },
    {
      "cell_type": "markdown",
      "source": [
        "Asks the user whether he wants to join a particular class. If he wants to join then asks his/her details"
      ],
      "metadata": {
        "id": "IAjxoho9_MoB"
      }
    },
    {
      "cell_type": "code",
      "source": [
        "def join_class():\n",
        "  user_details = []\n",
        "\n",
        "  while True:\n",
        "    response = input(\"Do you want to join the class (yes/no) :\").strip().lower()\n",
        "\n",
        "    if response == \"yes\":\n",
        "      name = input(\"Enter your name :\").strip()\n",
        "      gender = input(\"Enter your gender :\").strip()\n",
        "      phone_number = input(\"Enter your phone_number:\").strip()\n",
        "      user_details.append({\"name\":name,\"gender\":gender,\"phone_number\":phone_number})\n",
        "\n",
        "    elif response == \"no\":\n",
        "      print(\"Thank you! Exiting the class registration process\")\n",
        "      break\n",
        "\n",
        "    else:\n",
        "      print(\"Invalid input. Please enter yes or no\")\n",
        "\n",
        "\n",
        "  if user_details:\n",
        "    print(\"Details\")\n",
        "    print(\"------------------------------------------------------------\")\n",
        "    print(\"|         name           |  gender    |   phone_number      |\")\n",
        "    print(\"-------------------------------------------------------------\")\n",
        "    for user in user_details:\n",
        "      print(f\"|    {user['name']:<12}        |{user['gender']:<10}  | {user['phone_number']:<12}        |\")\n",
        "      print(\" ------------------------------------------------------------\")\n",
        "  else:\n",
        "    print(\"Have a nice day\")\n",
        "\n",
        "join_class()"
      ],
      "metadata": {
        "colab": {
          "base_uri": "https://localhost:8080/"
        },
        "id": "JTKpAj70YmAO",
        "outputId": "c1e07ec5-3a6c-4829-aed6-e1e5dc0e610e"
      },
      "execution_count": 18,
      "outputs": [
        {
          "output_type": "stream",
          "name": "stdout",
          "text": [
            "Do you want to join the class (yes/no) :yes\n",
            "Enter your name :Gopika\n",
            "Enter your gender :Female\n",
            "Enter your phone_number:763788\n",
            "Do you want to join the class (yes/no) :yes\n",
            "Enter your name :Surya\n",
            "Enter your gender :Male\n",
            "Enter your phone_number:790930\n",
            "Do you want to join the class (yes/no) :yes\n",
            "Enter your name :Vinod\n",
            "Enter your gender :Male\n",
            "Enter your phone_number:738739\n",
            "Do you want to join the class (yes/no) :yes\n",
            "Enter your name :Kirthika\n",
            "Enter your gender :Female\n",
            "Enter your phone_number:499290\n",
            "Do you want to join the class (yes/no) :no\n",
            "Thank you! Exiting the class registration process\n",
            "Details\n",
            "------------------------------------------------------------\n",
            "|         name           |  gender    |   phone_number      |\n",
            "-------------------------------------------------------------\n",
            "|    Gopika              |Female      | 763788              |\n",
            " ------------------------------------------------------------\n",
            "|    Surya               |Male        | 790930              |\n",
            " ------------------------------------------------------------\n",
            "|    Vinod               |Male        | 738739              |\n",
            " ------------------------------------------------------------\n",
            "|    Kirthika            |Female      | 499290              |\n",
            " ------------------------------------------------------------\n"
          ]
        }
      ]
    }
  ],
  "metadata": {
    "colab": {
      "provenance": [],
      "authorship_tag": "ABX9TyMF8r4lT/nN1k1mJDmXjXDZ",
      "include_colab_link": true
    },
    "kernelspec": {
      "display_name": "Python 3",
      "name": "python3"
    },
    "language_info": {
      "name": "python"
    }
  },
  "nbformat": 4,
  "nbformat_minor": 0
}