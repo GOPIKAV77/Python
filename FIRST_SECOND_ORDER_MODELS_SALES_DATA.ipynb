{
  "nbformat": 4,
  "nbformat_minor": 0,
  "metadata": {
    "colab": {
      "provenance": [],
      "authorship_tag": "ABX9TyNt5CcCVW6P7EsF9p9R/iv5",
      "include_colab_link": true
    },
    "kernelspec": {
      "name": "python3",
      "display_name": "Python 3"
    },
    "language_info": {
      "name": "python"
    }
  },
  "cells": [
    {
      "cell_type": "markdown",
      "metadata": {
        "id": "view-in-github",
        "colab_type": "text"
      },
      "source": [
        "<a href=\"https://colab.research.google.com/github/GOPIKAV77/Python/blob/main/FIRST_SECOND_ORDER_MODELS_SALES_DATA.ipynb\" target=\"_parent\"><img src=\"https://colab.research.google.com/assets/colab-badge.svg\" alt=\"Open In Colab\"/></a>"
      ]
    },
    {
      "cell_type": "code",
      "source": [
        "import pandas as pd\n",
        "import numpy as np\n",
        "import matplotlib.pyplot as plt\n",
        "import statsmodels.api as sm"
      ],
      "metadata": {
        "id": "o9SCadi3u8PW"
      },
      "execution_count": 1,
      "outputs": []
    },
    {
      "cell_type": "code",
      "source": [
        "df = pd.read_csv(\"sales.csv\",encoding='latin-1' )"
      ],
      "metadata": {
        "id": "47fR446iu8Ws"
      },
      "execution_count": 4,
      "outputs": []
    },
    {
      "cell_type": "code",
      "source": [
        "df.head(3)"
      ],
      "metadata": {
        "colab": {
          "base_uri": "https://localhost:8080/",
          "height": 233
        },
        "id": "GxH27cIsu8Z-",
        "outputId": "6d92e26f-1be0-4677-d178-068bb13bd1fc"
      },
      "execution_count": 5,
      "outputs": [
        {
          "output_type": "execute_result",
          "data": {
            "text/plain": [
              "   ORDERNUMBER  QUANTITYORDERED  PRICEEACH  ...  CONTACTLASTNAME  CONTACTFIRSTNAME DEALSIZE\n",
              "0        10107               30      95.70  ...               Yu              Kwai    Small\n",
              "1        10121               34      81.35  ...          Henriot              Paul    Small\n",
              "2        10134               41      94.74  ...         Da Cunha            Daniel   Medium\n",
              "\n",
              "[3 rows x 25 columns]"
            ],
            "text/html": [
              "\n",
              "  <div id=\"df-ffb10e31-fcc3-4efc-ae20-aa877325dffe\" class=\"colab-df-container\">\n",
              "    <div>\n",
              "<style scoped>\n",
              "    .dataframe tbody tr th:only-of-type {\n",
              "        vertical-align: middle;\n",
              "    }\n",
              "\n",
              "    .dataframe tbody tr th {\n",
              "        vertical-align: top;\n",
              "    }\n",
              "\n",
              "    .dataframe thead th {\n",
              "        text-align: right;\n",
              "    }\n",
              "</style>\n",
              "<table border=\"1\" class=\"dataframe\">\n",
              "  <thead>\n",
              "    <tr style=\"text-align: right;\">\n",
              "      <th></th>\n",
              "      <th>ORDERNUMBER</th>\n",
              "      <th>QUANTITYORDERED</th>\n",
              "      <th>PRICEEACH</th>\n",
              "      <th>ORDERLINENUMBER</th>\n",
              "      <th>SALES</th>\n",
              "      <th>ORDERDATE</th>\n",
              "      <th>STATUS</th>\n",
              "      <th>QTR_ID</th>\n",
              "      <th>MONTH_ID</th>\n",
              "      <th>YEAR_ID</th>\n",
              "      <th>PRODUCTLINE</th>\n",
              "      <th>MSRP</th>\n",
              "      <th>PRODUCTCODE</th>\n",
              "      <th>CUSTOMERNAME</th>\n",
              "      <th>PHONE</th>\n",
              "      <th>ADDRESSLINE1</th>\n",
              "      <th>ADDRESSLINE2</th>\n",
              "      <th>CITY</th>\n",
              "      <th>STATE</th>\n",
              "      <th>POSTALCODE</th>\n",
              "      <th>COUNTRY</th>\n",
              "      <th>TERRITORY</th>\n",
              "      <th>CONTACTLASTNAME</th>\n",
              "      <th>CONTACTFIRSTNAME</th>\n",
              "      <th>DEALSIZE</th>\n",
              "    </tr>\n",
              "  </thead>\n",
              "  <tbody>\n",
              "    <tr>\n",
              "      <th>0</th>\n",
              "      <td>10107</td>\n",
              "      <td>30</td>\n",
              "      <td>95.70</td>\n",
              "      <td>2</td>\n",
              "      <td>2871.00</td>\n",
              "      <td>2/24/2003 0:00</td>\n",
              "      <td>Shipped</td>\n",
              "      <td>1</td>\n",
              "      <td>2</td>\n",
              "      <td>2003</td>\n",
              "      <td>Motorcycles</td>\n",
              "      <td>95</td>\n",
              "      <td>S10_1678</td>\n",
              "      <td>Land of Toys Inc.</td>\n",
              "      <td>2125557818</td>\n",
              "      <td>897 Long Airport Avenue</td>\n",
              "      <td>NaN</td>\n",
              "      <td>NYC</td>\n",
              "      <td>NY</td>\n",
              "      <td>10022</td>\n",
              "      <td>USA</td>\n",
              "      <td>NaN</td>\n",
              "      <td>Yu</td>\n",
              "      <td>Kwai</td>\n",
              "      <td>Small</td>\n",
              "    </tr>\n",
              "    <tr>\n",
              "      <th>1</th>\n",
              "      <td>10121</td>\n",
              "      <td>34</td>\n",
              "      <td>81.35</td>\n",
              "      <td>5</td>\n",
              "      <td>2765.90</td>\n",
              "      <td>5/7/2003 0:00</td>\n",
              "      <td>Shipped</td>\n",
              "      <td>2</td>\n",
              "      <td>5</td>\n",
              "      <td>2003</td>\n",
              "      <td>Motorcycles</td>\n",
              "      <td>95</td>\n",
              "      <td>S10_1678</td>\n",
              "      <td>Reims Collectables</td>\n",
              "      <td>26.47.1555</td>\n",
              "      <td>59 rue de l'Abbaye</td>\n",
              "      <td>NaN</td>\n",
              "      <td>Reims</td>\n",
              "      <td>NaN</td>\n",
              "      <td>51100</td>\n",
              "      <td>France</td>\n",
              "      <td>EMEA</td>\n",
              "      <td>Henriot</td>\n",
              "      <td>Paul</td>\n",
              "      <td>Small</td>\n",
              "    </tr>\n",
              "    <tr>\n",
              "      <th>2</th>\n",
              "      <td>10134</td>\n",
              "      <td>41</td>\n",
              "      <td>94.74</td>\n",
              "      <td>2</td>\n",
              "      <td>3884.34</td>\n",
              "      <td>7/1/2003 0:00</td>\n",
              "      <td>Shipped</td>\n",
              "      <td>3</td>\n",
              "      <td>7</td>\n",
              "      <td>2003</td>\n",
              "      <td>Motorcycles</td>\n",
              "      <td>95</td>\n",
              "      <td>S10_1678</td>\n",
              "      <td>Lyon Souveniers</td>\n",
              "      <td>+33 1 46 62 7555</td>\n",
              "      <td>27 rue du Colonel Pierre Avia</td>\n",
              "      <td>NaN</td>\n",
              "      <td>Paris</td>\n",
              "      <td>NaN</td>\n",
              "      <td>75508</td>\n",
              "      <td>France</td>\n",
              "      <td>EMEA</td>\n",
              "      <td>Da Cunha</td>\n",
              "      <td>Daniel</td>\n",
              "      <td>Medium</td>\n",
              "    </tr>\n",
              "  </tbody>\n",
              "</table>\n",
              "</div>\n",
              "    <div class=\"colab-df-buttons\">\n",
              "\n",
              "  <div class=\"colab-df-container\">\n",
              "    <button class=\"colab-df-convert\" onclick=\"convertToInteractive('df-ffb10e31-fcc3-4efc-ae20-aa877325dffe')\"\n",
              "            title=\"Convert this dataframe to an interactive table.\"\n",
              "            style=\"display:none;\">\n",
              "\n",
              "  <svg xmlns=\"http://www.w3.org/2000/svg\" height=\"24px\" viewBox=\"0 -960 960 960\">\n",
              "    <path d=\"M120-120v-720h720v720H120Zm60-500h600v-160H180v160Zm220 220h160v-160H400v160Zm0 220h160v-160H400v160ZM180-400h160v-160H180v160Zm440 0h160v-160H620v160ZM180-180h160v-160H180v160Zm440 0h160v-160H620v160Z\"/>\n",
              "  </svg>\n",
              "    </button>\n",
              "\n",
              "  <style>\n",
              "    .colab-df-container {\n",
              "      display:flex;\n",
              "      gap: 12px;\n",
              "    }\n",
              "\n",
              "    .colab-df-convert {\n",
              "      background-color: #E8F0FE;\n",
              "      border: none;\n",
              "      border-radius: 50%;\n",
              "      cursor: pointer;\n",
              "      display: none;\n",
              "      fill: #1967D2;\n",
              "      height: 32px;\n",
              "      padding: 0 0 0 0;\n",
              "      width: 32px;\n",
              "    }\n",
              "\n",
              "    .colab-df-convert:hover {\n",
              "      background-color: #E2EBFA;\n",
              "      box-shadow: 0px 1px 2px rgba(60, 64, 67, 0.3), 0px 1px 3px 1px rgba(60, 64, 67, 0.15);\n",
              "      fill: #174EA6;\n",
              "    }\n",
              "\n",
              "    .colab-df-buttons div {\n",
              "      margin-bottom: 4px;\n",
              "    }\n",
              "\n",
              "    [theme=dark] .colab-df-convert {\n",
              "      background-color: #3B4455;\n",
              "      fill: #D2E3FC;\n",
              "    }\n",
              "\n",
              "    [theme=dark] .colab-df-convert:hover {\n",
              "      background-color: #434B5C;\n",
              "      box-shadow: 0px 1px 3px 1px rgba(0, 0, 0, 0.15);\n",
              "      filter: drop-shadow(0px 1px 2px rgba(0, 0, 0, 0.3));\n",
              "      fill: #FFFFFF;\n",
              "    }\n",
              "  </style>\n",
              "\n",
              "    <script>\n",
              "      const buttonEl =\n",
              "        document.querySelector('#df-ffb10e31-fcc3-4efc-ae20-aa877325dffe button.colab-df-convert');\n",
              "      buttonEl.style.display =\n",
              "        google.colab.kernel.accessAllowed ? 'block' : 'none';\n",
              "\n",
              "      async function convertToInteractive(key) {\n",
              "        const element = document.querySelector('#df-ffb10e31-fcc3-4efc-ae20-aa877325dffe');\n",
              "        const dataTable =\n",
              "          await google.colab.kernel.invokeFunction('convertToInteractive',\n",
              "                                                    [key], {});\n",
              "        if (!dataTable) return;\n",
              "\n",
              "        const docLinkHtml = 'Like what you see? Visit the ' +\n",
              "          '<a target=\"_blank\" href=https://colab.research.google.com/notebooks/data_table.ipynb>data table notebook</a>'\n",
              "          + ' to learn more about interactive tables.';\n",
              "        element.innerHTML = '';\n",
              "        dataTable['output_type'] = 'display_data';\n",
              "        await google.colab.output.renderOutput(dataTable, element);\n",
              "        const docLink = document.createElement('div');\n",
              "        docLink.innerHTML = docLinkHtml;\n",
              "        element.appendChild(docLink);\n",
              "      }\n",
              "    </script>\n",
              "  </div>\n",
              "\n",
              "\n",
              "<div id=\"df-156d07c0-c65a-46de-8a8f-b92e2c865b59\">\n",
              "  <button class=\"colab-df-quickchart\" onclick=\"quickchart('df-156d07c0-c65a-46de-8a8f-b92e2c865b59')\"\n",
              "            title=\"Suggest charts\"\n",
              "            style=\"display:none;\">\n",
              "\n",
              "<svg xmlns=\"http://www.w3.org/2000/svg\" height=\"24px\"viewBox=\"0 0 24 24\"\n",
              "     width=\"24px\">\n",
              "    <g>\n",
              "        <path d=\"M19 3H5c-1.1 0-2 .9-2 2v14c0 1.1.9 2 2 2h14c1.1 0 2-.9 2-2V5c0-1.1-.9-2-2-2zM9 17H7v-7h2v7zm4 0h-2V7h2v10zm4 0h-2v-4h2v4z\"/>\n",
              "    </g>\n",
              "</svg>\n",
              "  </button>\n",
              "\n",
              "<style>\n",
              "  .colab-df-quickchart {\n",
              "      --bg-color: #E8F0FE;\n",
              "      --fill-color: #1967D2;\n",
              "      --hover-bg-color: #E2EBFA;\n",
              "      --hover-fill-color: #174EA6;\n",
              "      --disabled-fill-color: #AAA;\n",
              "      --disabled-bg-color: #DDD;\n",
              "  }\n",
              "\n",
              "  [theme=dark] .colab-df-quickchart {\n",
              "      --bg-color: #3B4455;\n",
              "      --fill-color: #D2E3FC;\n",
              "      --hover-bg-color: #434B5C;\n",
              "      --hover-fill-color: #FFFFFF;\n",
              "      --disabled-bg-color: #3B4455;\n",
              "      --disabled-fill-color: #666;\n",
              "  }\n",
              "\n",
              "  .colab-df-quickchart {\n",
              "    background-color: var(--bg-color);\n",
              "    border: none;\n",
              "    border-radius: 50%;\n",
              "    cursor: pointer;\n",
              "    display: none;\n",
              "    fill: var(--fill-color);\n",
              "    height: 32px;\n",
              "    padding: 0;\n",
              "    width: 32px;\n",
              "  }\n",
              "\n",
              "  .colab-df-quickchart:hover {\n",
              "    background-color: var(--hover-bg-color);\n",
              "    box-shadow: 0 1px 2px rgba(60, 64, 67, 0.3), 0 1px 3px 1px rgba(60, 64, 67, 0.15);\n",
              "    fill: var(--button-hover-fill-color);\n",
              "  }\n",
              "\n",
              "  .colab-df-quickchart-complete:disabled,\n",
              "  .colab-df-quickchart-complete:disabled:hover {\n",
              "    background-color: var(--disabled-bg-color);\n",
              "    fill: var(--disabled-fill-color);\n",
              "    box-shadow: none;\n",
              "  }\n",
              "\n",
              "  .colab-df-spinner {\n",
              "    border: 2px solid var(--fill-color);\n",
              "    border-color: transparent;\n",
              "    border-bottom-color: var(--fill-color);\n",
              "    animation:\n",
              "      spin 1s steps(1) infinite;\n",
              "  }\n",
              "\n",
              "  @keyframes spin {\n",
              "    0% {\n",
              "      border-color: transparent;\n",
              "      border-bottom-color: var(--fill-color);\n",
              "      border-left-color: var(--fill-color);\n",
              "    }\n",
              "    20% {\n",
              "      border-color: transparent;\n",
              "      border-left-color: var(--fill-color);\n",
              "      border-top-color: var(--fill-color);\n",
              "    }\n",
              "    30% {\n",
              "      border-color: transparent;\n",
              "      border-left-color: var(--fill-color);\n",
              "      border-top-color: var(--fill-color);\n",
              "      border-right-color: var(--fill-color);\n",
              "    }\n",
              "    40% {\n",
              "      border-color: transparent;\n",
              "      border-right-color: var(--fill-color);\n",
              "      border-top-color: var(--fill-color);\n",
              "    }\n",
              "    60% {\n",
              "      border-color: transparent;\n",
              "      border-right-color: var(--fill-color);\n",
              "    }\n",
              "    80% {\n",
              "      border-color: transparent;\n",
              "      border-right-color: var(--fill-color);\n",
              "      border-bottom-color: var(--fill-color);\n",
              "    }\n",
              "    90% {\n",
              "      border-color: transparent;\n",
              "      border-bottom-color: var(--fill-color);\n",
              "    }\n",
              "  }\n",
              "</style>\n",
              "\n",
              "  <script>\n",
              "    async function quickchart(key) {\n",
              "      const quickchartButtonEl =\n",
              "        document.querySelector('#' + key + ' button');\n",
              "      quickchartButtonEl.disabled = true;  // To prevent multiple clicks.\n",
              "      quickchartButtonEl.classList.add('colab-df-spinner');\n",
              "      try {\n",
              "        const charts = await google.colab.kernel.invokeFunction(\n",
              "            'suggestCharts', [key], {});\n",
              "      } catch (error) {\n",
              "        console.error('Error during call to suggestCharts:', error);\n",
              "      }\n",
              "      quickchartButtonEl.classList.remove('colab-df-spinner');\n",
              "      quickchartButtonEl.classList.add('colab-df-quickchart-complete');\n",
              "    }\n",
              "    (() => {\n",
              "      let quickchartButtonEl =\n",
              "        document.querySelector('#df-156d07c0-c65a-46de-8a8f-b92e2c865b59 button');\n",
              "      quickchartButtonEl.style.display =\n",
              "        google.colab.kernel.accessAllowed ? 'block' : 'none';\n",
              "    })();\n",
              "  </script>\n",
              "</div>\n",
              "\n",
              "    </div>\n",
              "  </div>\n"
            ],
            "application/vnd.google.colaboratory.intrinsic+json": {
              "type": "dataframe",
              "variable_name": "df"
            }
          },
          "metadata": {},
          "execution_count": 5
        }
      ]
    },
    {
      "cell_type": "markdown",
      "source": [
        "**SCATTERPLOT**"
      ],
      "metadata": {
        "id": "msFNA_aqx_vo"
      }
    },
    {
      "cell_type": "code",
      "source": [
        "plt.scatter(df[\"PRICEEACH\"],df[\"SALES\"])"
      ],
      "metadata": {
        "colab": {
          "base_uri": "https://localhost:8080/",
          "height": 448
        },
        "id": "NlhZ_KXeu8eB",
        "outputId": "c6502128-5c92-47e7-a860-a7aef9455e56"
      },
      "execution_count": 34,
      "outputs": [
        {
          "output_type": "execute_result",
          "data": {
            "text/plain": [
              "<matplotlib.collections.PathCollection at 0x7faf59072e10>"
            ]
          },
          "metadata": {},
          "execution_count": 34
        },
        {
          "output_type": "display_data",
          "data": {
            "text/plain": [
              "<Figure size 640x480 with 1 Axes>"
            ],
            "image/png": "[encoded data removed]"
          },
          "metadata": {}
        }
      ]
    },
    {
      "cell_type": "markdown",
      "source": [
        "**FIRST-ORDER MODEL**"
      ],
      "metadata": {
        "id": "QvAIXnjdx7yI"
      }
    },
    {
      "cell_type": "code",
      "source": [
        "x = df[\"PRICEEACH\"]\n",
        "y = df[\"SALES\"]\n",
        "\n",
        "x2 = sm.add_constant(x)\n",
        "model = sm.OLS(y,x2)\n",
        "model = model.fit()\n",
        "model.summary()"
      ],
      "metadata": {
        "colab": {
          "base_uri": "https://localhost:8080/",
          "height": 447
        },
        "id": "1MxuYFFou8hd",
        "outputId": "0bdceac8-e86d-4dd0-e6df-7f05b06e2dc5"
      },
      "execution_count": 44,
      "outputs": [
        {
          "output_type": "execute_result",
          "data": {
            "text/plain": [
              "<class 'statsmodels.iolib.summary.Summary'>\n",
              "\"\"\"\n",
              "                            OLS Regression Results                            \n",
              "==============================================================================\n",
              "Dep. Variable:                  SALES   R-squared:                       0.433\n",
              "Model:                            OLS   Adj. R-squared:                  0.433\n",
              "Method:                 Least Squares   F-statistic:                     2152.\n",
              "Date:                Sun, 02 Mar 2025   Prob (F-statistic):               0.00\n",
              "Time:                        17:07:05   Log-Likelihood:                -24430.\n",
              "No. Observations:                2823   AIC:                         4.886e+04\n",
              "Df Residuals:                    2821   BIC:                         4.888e+04\n",
              "Df Model:                           1                                         \n",
              "Covariance Type:            nonrobust                                         \n",
              "==============================================================================\n",
              "                 coef    std err          t      P>|t|      [0.025      0.975]\n",
              "------------------------------------------------------------------------------\n",
              "const      -1470.5900    111.410    -13.200      0.000   -1689.043   -1252.137\n",
              "PRICEEACH     60.0594      1.295     46.391      0.000      57.521      62.598\n",
              "==============================================================================\n",
              "Omnibus:                      781.678   Durbin-Watson:                   1.547\n",
              "Prob(Omnibus):                  0.000   Jarque-Bera (JB):             2800.049\n",
              "Skew:                           1.346   Prob(JB):                         0.00\n",
              "Kurtosis:                       7.069   Cond. No.                         367.\n",
              "==============================================================================\n",
              "\n",
              "Notes:\n",
              "[1] Standard Errors assume that the covariance matrix of the errors is correctly specified.\n",
              "\"\"\""
            ],
            "text/html": [
              "<table class=\"simpletable\">\n",
              "<caption>OLS Regression Results</caption>\n",
              "<tr>\n",
              "  <th>Dep. Variable:</th>          <td>SALES</td>      <th>  R-squared:         </th> <td>   0.433</td> \n",
              "</tr>\n",
              "<tr>\n",
              "  <th>Model:</th>                   <td>OLS</td>       <th>  Adj. R-squared:    </th> <td>   0.433</td> \n",
              "</tr>\n",
              "<tr>\n",
              "  <th>Method:</th>             <td>Least Squares</td>  <th>  F-statistic:       </th> <td>   2152.</td> \n",
              "</tr>\n",
              "<tr>\n",
              "  <th>Date:</th>             <td>Sun, 02 Mar 2025</td> <th>  Prob (F-statistic):</th>  <td>  0.00</td>  \n",
              "</tr>\n",
              "<tr>\n",
              "  <th>Time:</th>                 <td>17:07:05</td>     <th>  Log-Likelihood:    </th> <td> -24430.</td> \n",
              "</tr>\n",
              "<tr>\n",
              "  <th>No. Observations:</th>      <td>  2823</td>      <th>  AIC:               </th> <td>4.886e+04</td>\n",
              "</tr>\n",
              "<tr>\n",
              "  <th>Df Residuals:</th>          <td>  2821</td>      <th>  BIC:               </th> <td>4.888e+04</td>\n",
              "</tr>\n",
              "<tr>\n",
              "  <th>Df Model:</th>              <td>     1</td>      <th>                     </th>     <td> </td>    \n",
              "</tr>\n",
              "<tr>\n",
              "  <th>Covariance Type:</th>      <td>nonrobust</td>    <th>                     </th>     <td> </td>    \n",
              "</tr>\n",
              "</table>\n",
              "<table class=\"simpletable\">\n",
              "<tr>\n",
              "      <td></td>         <th>coef</th>     <th>std err</th>      <th>t</th>      <th>P>|t|</th>  <th>[0.025</th>    <th>0.975]</th>  \n",
              "</tr>\n",
              "<tr>\n",
              "  <th>const</th>     <td>-1470.5900</td> <td>  111.410</td> <td>  -13.200</td> <td> 0.000</td> <td>-1689.043</td> <td>-1252.137</td>\n",
              "</tr>\n",
              "<tr>\n",
              "  <th>PRICEEACH</th> <td>   60.0594</td> <td>    1.295</td> <td>   46.391</td> <td> 0.000</td> <td>   57.521</td> <td>   62.598</td>\n",
              "</tr>\n",
              "</table>\n",
              "<table class=\"simpletable\">\n",
              "<tr>\n",
              "  <th>Omnibus:</th>       <td>781.678</td> <th>  Durbin-Watson:     </th> <td>   1.547</td>\n",
              "</tr>\n",
              "<tr>\n",
              "  <th>Prob(Omnibus):</th> <td> 0.000</td>  <th>  Jarque-Bera (JB):  </th> <td>2800.049</td>\n",
              "</tr>\n",
              "<tr>\n",
              "  <th>Skew:</th>          <td> 1.346</td>  <th>  Prob(JB):          </th> <td>    0.00</td>\n",
              "</tr>\n",
              "<tr>\n",
              "  <th>Kurtosis:</th>      <td> 7.069</td>  <th>  Cond. No.          </th> <td>    367.</td>\n",
              "</tr>\n",
              "</table><br/><br/>Notes:<br/>[1] Standard Errors assume that the covariance matrix of the errors is correctly specified."
            ],
            "text/latex": "\\begin{center}\n\\begin{tabular}{lclc}\n\\toprule\n\\textbf{Dep. Variable:}    &      SALES       & \\textbf{  R-squared:         } &     0.433   \\\\\n\\textbf{Model:}            &       OLS        & \\textbf{  Adj. R-squared:    } &     0.433   \\\\\n\\textbf{Method:}           &  Least Squares   & \\textbf{  F-statistic:       } &     2152.   \\\\\n\\textbf{Date:}             & Sun, 02 Mar 2025 & \\textbf{  Prob (F-statistic):} &     0.00    \\\\\n\\textbf{Time:}             &     17:07:05     & \\textbf{  Log-Likelihood:    } &   -24430.   \\\\\n\\textbf{No. Observations:} &        2823      & \\textbf{  AIC:               } & 4.886e+04   \\\\\n\\textbf{Df Residuals:}     &        2821      & \\textbf{  BIC:               } & 4.888e+04   \\\\\n\\textbf{Df Model:}         &           1      & \\textbf{                     } &             \\\\\n\\textbf{Covariance Type:}  &    nonrobust     & \\textbf{                     } &             \\\\\n\\bottomrule\n\\end{tabular}\n\\begin{tabular}{lcccccc}\n                   & \\textbf{coef} & \\textbf{std err} & \\textbf{t} & \\textbf{P$> |$t$|$} & \\textbf{[0.025} & \\textbf{0.975]}  \\\\\n\\midrule\n\\textbf{const}     &   -1470.5900  &      111.410     &   -13.200  &         0.000        &    -1689.043    &    -1252.137     \\\\\n\\textbf{PRICEEACH} &      60.0594  &        1.295     &    46.391  &         0.000        &       57.521    &       62.598     \\\\\n\\bottomrule\n\\end{tabular}\n\\begin{tabular}{lclc}\n\\textbf{Omnibus:}       & 781.678 & \\textbf{  Durbin-Watson:     } &    1.547  \\\\\n\\textbf{Prob(Omnibus):} &   0.000 & \\textbf{  Jarque-Bera (JB):  } & 2800.049  \\\\\n\\textbf{Skew:}          &   1.346 & \\textbf{  Prob(JB):          } &     0.00  \\\\\n\\textbf{Kurtosis:}      &   7.069 & \\textbf{  Cond. No.          } &     367.  \\\\\n\\bottomrule\n\\end{tabular}\n%\\caption{OLS Regression Results}\n\\end{center}\n\nNotes: \\newline\n [1] Standard Errors assume that the covariance matrix of the errors is correctly specified."
          },
          "metadata": {},
          "execution_count": 44
        }
      ]
    },
    {
      "cell_type": "markdown",
      "source": [
        "**STANDARDISED RESIDUAL PLOT**"
      ],
      "metadata": {
        "id": "fJCrmywKyFhC"
      }
    },
    {
      "cell_type": "code",
      "source": [
        "m = model.resid_pearson\n",
        "m"
      ],
      "metadata": {
        "colab": {
          "base_uri": "https://localhost:8080/"
        },
        "id": "bRaK6YjEu8kg",
        "outputId": "38ff5893-bb74-4d22-c486-60a3054a7b35"
      },
      "execution_count": 45,
      "outputs": [
        {
          "output_type": "execute_result",
          "data": {
            "text/plain": [
              "array([-1.01342887, -0.46800609, -0.24151649, ...,  0.63585539,\n",
              "       -0.10908061,  0.44321329])"
            ]
          },
          "metadata": {},
          "execution_count": 45
        }
      ]
    },
    {
      "cell_type": "code",
      "source": [
        "y_ = model.predict(x2)\n",
        "y_"
      ],
      "metadata": {
        "colab": {
          "base_uri": "https://localhost:8080/",
          "height": 458
        },
        "id": "cwhuXideu8qP",
        "outputId": "5f04627c-6c63-4338-aa81-68147aec1880"
      },
      "execution_count": 46,
      "outputs": [
        {
          "output_type": "execute_result",
          "data": {
            "text/plain": [
              "0       4277.091275\n",
              "1       3415.239378\n",
              "2       4219.434284\n",
              "3       3529.952766\n",
              "4       4535.346547\n",
              "           ...     \n",
              "2818    4535.346547\n",
              "2819    4535.346547\n",
              "2820    4535.346547\n",
              "2821    2267.504900\n",
              "2822    2464.499619\n",
              "Length: 2823, dtype: float64"
            ],
            "text/html": [
              "<div>\n",
              "<style scoped>\n",
              "    .dataframe tbody tr th:only-of-type {\n",
              "        vertical-align: middle;\n",
              "    }\n",
              "\n",
              "    .dataframe tbody tr th {\n",
              "        vertical-align: top;\n",
              "    }\n",
              "\n",
              "    .dataframe thead th {\n",
              "        text-align: right;\n",
              "    }\n",
              "</style>\n",
              "<table border=\"1\" class=\"dataframe\">\n",
              "  <thead>\n",
              "    <tr style=\"text-align: right;\">\n",
              "      <th></th>\n",
              "      <th>0</th>\n",
              "    </tr>\n",
              "  </thead>\n",
              "  <tbody>\n",
              "    <tr>\n",
              "      <th>0</th>\n",
              "      <td>4277.091275</td>\n",
              "    </tr>\n",
              "    <tr>\n",
              "      <th>1</th>\n",
              "      <td>3415.239378</td>\n",
              "    </tr>\n",
              "    <tr>\n",
              "      <th>2</th>\n",
              "      <td>4219.434284</td>\n",
              "    </tr>\n",
              "    <tr>\n",
              "      <th>3</th>\n",
              "      <td>3529.952766</td>\n",
              "    </tr>\n",
              "    <tr>\n",
              "      <th>4</th>\n",
              "      <td>4535.346547</td>\n",
              "    </tr>\n",
              "    <tr>\n",
              "      <th>...</th>\n",
              "      <td>...</td>\n",
              "    </tr>\n",
              "    <tr>\n",
              "      <th>2818</th>\n",
              "      <td>4535.346547</td>\n",
              "    </tr>\n",
              "    <tr>\n",
              "      <th>2819</th>\n",
              "      <td>4535.346547</td>\n",
              "    </tr>\n",
              "    <tr>\n",
              "      <th>2820</th>\n",
              "      <td>4535.346547</td>\n",
              "    </tr>\n",
              "    <tr>\n",
              "      <th>2821</th>\n",
              "      <td>2267.504900</td>\n",
              "    </tr>\n",
              "    <tr>\n",
              "      <th>2822</th>\n",
              "      <td>2464.499619</td>\n",
              "    </tr>\n",
              "  </tbody>\n",
              "</table>\n",
              "<p>2823 rows × 1 columns</p>\n",
              "</div><br><label><b>dtype:</b> float64</label>"
            ]
          },
          "metadata": {},
          "execution_count": 46
        }
      ]
    },
    {
      "cell_type": "code",
      "source": [
        "plt.scatter(y_,m)"
      ],
      "metadata": {
        "colab": {
          "base_uri": "https://localhost:8080/",
          "height": 448
        },
        "id": "i52D-sgnu8tk",
        "outputId": "61ac0aa2-81b3-4230-d6e8-c54bae10c4c3"
      },
      "execution_count": 47,
      "outputs": [
        {
          "output_type": "execute_result",
          "data": {
            "text/plain": [
              "<matplotlib.collections.PathCollection at 0x7faf598d6210>"
            ]
          },
          "metadata": {},
          "execution_count": 47
        },
        {
          "output_type": "display_data",
          "data": {
            "text/plain": [
              "<Figure size 640x480 with 1 Axes>"
            ],
            "image/png": "[encoded data removed]"
          },
          "metadata": {}
        }
      ]
    },
    {
      "cell_type": "markdown",
      "source": [
        "**SECOND ORDER MODEL**"
      ],
      "metadata": {
        "id": "6SFBQxGnziiP"
      }
    },
    {
      "cell_type": "code",
      "source": [
        "x_sq = (x**2)\n",
        "x_sq"
      ],
      "metadata": {
        "colab": {
          "base_uri": "https://localhost:8080/",
          "height": 458
        },
        "id": "y3G3wlo9ziCm",
        "outputId": "3780ae8a-6b40-40e6-f8ce-96befbb9eb1d"
      },
      "execution_count": 48,
      "outputs": [
        {
          "output_type": "execute_result",
          "data": {
            "text/plain": [
              "0        9158.4900\n",
              "1        6617.8225\n",
              "2        8975.6676\n",
              "3        6932.2276\n",
              "4       10000.0000\n",
              "           ...    \n",
              "2818    10000.0000\n",
              "2819    10000.0000\n",
              "2820    10000.0000\n",
              "2821     3873.8176\n",
              "2822     4292.8704\n",
              "Name: PRICEEACH, Length: 2823, dtype: float64"
            ],
            "text/html": [
              "<div>\n",
              "<style scoped>\n",
              "    .dataframe tbody tr th:only-of-type {\n",
              "        vertical-align: middle;\n",
              "    }\n",
              "\n",
              "    .dataframe tbody tr th {\n",
              "        vertical-align: top;\n",
              "    }\n",
              "\n",
              "    .dataframe thead th {\n",
              "        text-align: right;\n",
              "    }\n",
              "</style>\n",
              "<table border=\"1\" class=\"dataframe\">\n",
              "  <thead>\n",
              "    <tr style=\"text-align: right;\">\n",
              "      <th></th>\n",
              "      <th>PRICEEACH</th>\n",
              "    </tr>\n",
              "  </thead>\n",
              "  <tbody>\n",
              "    <tr>\n",
              "      <th>0</th>\n",
              "      <td>9158.4900</td>\n",
              "    </tr>\n",
              "    <tr>\n",
              "      <th>1</th>\n",
              "      <td>6617.8225</td>\n",
              "    </tr>\n",
              "    <tr>\n",
              "      <th>2</th>\n",
              "      <td>8975.6676</td>\n",
              "    </tr>\n",
              "    <tr>\n",
              "      <th>3</th>\n",
              "      <td>6932.2276</td>\n",
              "    </tr>\n",
              "    <tr>\n",
              "      <th>4</th>\n",
              "      <td>10000.0000</td>\n",
              "    </tr>\n",
              "    <tr>\n",
              "      <th>...</th>\n",
              "      <td>...</td>\n",
              "    </tr>\n",
              "    <tr>\n",
              "      <th>2818</th>\n",
              "      <td>10000.0000</td>\n",
              "    </tr>\n",
              "    <tr>\n",
              "      <th>2819</th>\n",
              "      <td>10000.0000</td>\n",
              "    </tr>\n",
              "    <tr>\n",
              "      <th>2820</th>\n",
              "      <td>10000.0000</td>\n",
              "    </tr>\n",
              "    <tr>\n",
              "      <th>2821</th>\n",
              "      <td>3873.8176</td>\n",
              "    </tr>\n",
              "    <tr>\n",
              "      <th>2822</th>\n",
              "      <td>4292.8704</td>\n",
              "    </tr>\n",
              "  </tbody>\n",
              "</table>\n",
              "<p>2823 rows × 1 columns</p>\n",
              "</div><br><label><b>dtype:</b> float64</label>"
            ]
          },
          "metadata": {},
          "execution_count": 48
        }
      ]
    },
    {
      "cell_type": "code",
      "source": [
        "x_k = np.column_stack((x,x_sq))\n",
        "x_n = sm.add_constant(x_k)\n",
        "model1 = sm.OLS(y,x_n)\n",
        "model1 = model1.fit()\n",
        "model1.summary()"
      ],
      "metadata": {
        "colab": {
          "base_uri": "https://localhost:8080/",
          "height": 503
        },
        "id": "mfDa6Wpmu8xi",
        "outputId": "89edbd78-65a8-45d8-81f6-b9f5045d3c6a"
      },
      "execution_count": 49,
      "outputs": [
        {
          "output_type": "execute_result",
          "data": {
            "text/plain": [
              "<class 'statsmodels.iolib.summary.Summary'>\n",
              "\"\"\"\n",
              "                            OLS Regression Results                            \n",
              "==============================================================================\n",
              "Dep. Variable:                  SALES   R-squared:                       0.460\n",
              "Model:                            OLS   Adj. R-squared:                  0.460\n",
              "Method:                 Least Squares   F-statistic:                     1203.\n",
              "Date:                Sun, 02 Mar 2025   Prob (F-statistic):               0.00\n",
              "Time:                        17:07:17   Log-Likelihood:                -24359.\n",
              "No. Observations:                2823   AIC:                         4.872e+04\n",
              "Df Residuals:                    2820   BIC:                         4.874e+04\n",
              "Df Model:                           2                                         \n",
              "Covariance Type:            nonrobust                                         \n",
              "==============================================================================\n",
              "                 coef    std err          t      P>|t|      [0.025      0.975]\n",
              "------------------------------------------------------------------------------\n",
              "const       2935.1939    382.200      7.680      0.000    2185.773    3684.615\n",
              "x1           -70.6792     10.946     -6.457      0.000     -92.143     -49.215\n",
              "x2             0.8820      0.073     12.024      0.000       0.738       1.026\n",
              "==============================================================================\n",
              "Omnibus:                      737.338   Durbin-Watson:                   1.614\n",
              "Prob(Omnibus):                  0.000   Jarque-Bera (JB):             2727.830\n",
              "Skew:                           1.255   Prob(JB):                         0.00\n",
              "Kurtosis:                       7.110   Cond. No.                     1.20e+05\n",
              "==============================================================================\n",
              "\n",
              "Notes:\n",
              "[1] Standard Errors assume that the covariance matrix of the errors is correctly specified.\n",
              "[2] The condition number is large, 1.2e+05. This might indicate that there are\n",
              "strong multicollinearity or other numerical problems.\n",
              "\"\"\""
            ],
            "text/html": [
              "<table class=\"simpletable\">\n",
              "<caption>OLS Regression Results</caption>\n",
              "<tr>\n",
              "  <th>Dep. Variable:</th>          <td>SALES</td>      <th>  R-squared:         </th> <td>   0.460</td> \n",
              "</tr>\n",
              "<tr>\n",
              "  <th>Model:</th>                   <td>OLS</td>       <th>  Adj. R-squared:    </th> <td>   0.460</td> \n",
              "</tr>\n",
              "<tr>\n",
              "  <th>Method:</th>             <td>Least Squares</td>  <th>  F-statistic:       </th> <td>   1203.</td> \n",
              "</tr>\n",
              "<tr>\n",
              "  <th>Date:</th>             <td>Sun, 02 Mar 2025</td> <th>  Prob (F-statistic):</th>  <td>  0.00</td>  \n",
              "</tr>\n",
              "<tr>\n",
              "  <th>Time:</th>                 <td>17:07:17</td>     <th>  Log-Likelihood:    </th> <td> -24359.</td> \n",
              "</tr>\n",
              "<tr>\n",
              "  <th>No. Observations:</th>      <td>  2823</td>      <th>  AIC:               </th> <td>4.872e+04</td>\n",
              "</tr>\n",
              "<tr>\n",
              "  <th>Df Residuals:</th>          <td>  2820</td>      <th>  BIC:               </th> <td>4.874e+04</td>\n",
              "</tr>\n",
              "<tr>\n",
              "  <th>Df Model:</th>              <td>     2</td>      <th>                     </th>     <td> </td>    \n",
              "</tr>\n",
              "<tr>\n",
              "  <th>Covariance Type:</th>      <td>nonrobust</td>    <th>                     </th>     <td> </td>    \n",
              "</tr>\n",
              "</table>\n",
              "<table class=\"simpletable\">\n",
              "<tr>\n",
              "    <td></td>       <th>coef</th>     <th>std err</th>      <th>t</th>      <th>P>|t|</th>  <th>[0.025</th>    <th>0.975]</th>  \n",
              "</tr>\n",
              "<tr>\n",
              "  <th>const</th> <td> 2935.1939</td> <td>  382.200</td> <td>    7.680</td> <td> 0.000</td> <td> 2185.773</td> <td> 3684.615</td>\n",
              "</tr>\n",
              "<tr>\n",
              "  <th>x1</th>    <td>  -70.6792</td> <td>   10.946</td> <td>   -6.457</td> <td> 0.000</td> <td>  -92.143</td> <td>  -49.215</td>\n",
              "</tr>\n",
              "<tr>\n",
              "  <th>x2</th>    <td>    0.8820</td> <td>    0.073</td> <td>   12.024</td> <td> 0.000</td> <td>    0.738</td> <td>    1.026</td>\n",
              "</tr>\n",
              "</table>\n",
              "<table class=\"simpletable\">\n",
              "<tr>\n",
              "  <th>Omnibus:</th>       <td>737.338</td> <th>  Durbin-Watson:     </th> <td>   1.614</td>\n",
              "</tr>\n",
              "<tr>\n",
              "  <th>Prob(Omnibus):</th> <td> 0.000</td>  <th>  Jarque-Bera (JB):  </th> <td>2727.830</td>\n",
              "</tr>\n",
              "<tr>\n",
              "  <th>Skew:</th>          <td> 1.255</td>  <th>  Prob(JB):          </th> <td>    0.00</td>\n",
              "</tr>\n",
              "<tr>\n",
              "  <th>Kurtosis:</th>      <td> 7.110</td>  <th>  Cond. No.          </th> <td>1.20e+05</td>\n",
              "</tr>\n",
              "</table><br/><br/>Notes:<br/>[1] Standard Errors assume that the covariance matrix of the errors is correctly specified.<br/>[2] The condition number is large, 1.2e+05. This might indicate that there are<br/>strong multicollinearity or other numerical problems."
            ],
            "text/latex": "\\begin{center}\n\\begin{tabular}{lclc}\n\\toprule\n\\textbf{Dep. Variable:}    &      SALES       & \\textbf{  R-squared:         } &     0.460   \\\\\n\\textbf{Model:}            &       OLS        & \\textbf{  Adj. R-squared:    } &     0.460   \\\\\n\\textbf{Method:}           &  Least Squares   & \\textbf{  F-statistic:       } &     1203.   \\\\\n\\textbf{Date:}             & Sun, 02 Mar 2025 & \\textbf{  Prob (F-statistic):} &     0.00    \\\\\n\\textbf{Time:}             &     17:07:17     & \\textbf{  Log-Likelihood:    } &   -24359.   \\\\\n\\textbf{No. Observations:} &        2823      & \\textbf{  AIC:               } & 4.872e+04   \\\\\n\\textbf{Df Residuals:}     &        2820      & \\textbf{  BIC:               } & 4.874e+04   \\\\\n\\textbf{Df Model:}         &           2      & \\textbf{                     } &             \\\\\n\\textbf{Covariance Type:}  &    nonrobust     & \\textbf{                     } &             \\\\\n\\bottomrule\n\\end{tabular}\n\\begin{tabular}{lcccccc}\n               & \\textbf{coef} & \\textbf{std err} & \\textbf{t} & \\textbf{P$> |$t$|$} & \\textbf{[0.025} & \\textbf{0.975]}  \\\\\n\\midrule\n\\textbf{const} &    2935.1939  &      382.200     &     7.680  &         0.000        &     2185.773    &     3684.615     \\\\\n\\textbf{x1}    &     -70.6792  &       10.946     &    -6.457  &         0.000        &      -92.143    &      -49.215     \\\\\n\\textbf{x2}    &       0.8820  &        0.073     &    12.024  &         0.000        &        0.738    &        1.026     \\\\\n\\bottomrule\n\\end{tabular}\n\\begin{tabular}{lclc}\n\\textbf{Omnibus:}       & 737.338 & \\textbf{  Durbin-Watson:     } &    1.614  \\\\\n\\textbf{Prob(Omnibus):} &   0.000 & \\textbf{  Jarque-Bera (JB):  } & 2727.830  \\\\\n\\textbf{Skew:}          &   1.255 & \\textbf{  Prob(JB):          } &     0.00  \\\\\n\\textbf{Kurtosis:}      &   7.110 & \\textbf{  Cond. No.          } & 1.20e+05  \\\\\n\\bottomrule\n\\end{tabular}\n%\\caption{OLS Regression Results}\n\\end{center}\n\nNotes: \\newline\n [1] Standard Errors assume that the covariance matrix of the errors is correctly specified. \\newline\n [2] The condition number is large, 1.2e+05. This might indicate that there are \\newline\n strong multicollinearity or other numerical problems."
          },
          "metadata": {},
          "execution_count": 49
        }
      ]
    },
    {
      "cell_type": "code",
      "source": [
        "e = model1.resid_pearson\n",
        "e"
      ],
      "metadata": {
        "colab": {
          "base_uri": "https://localhost:8080/"
        },
        "id": "oMkkUzu90KeZ",
        "outputId": "59aca54b-ce6e-424f-c73c-7e1cfa21144c"
      },
      "execution_count": 50,
      "outputs": [
        {
          "output_type": "execute_result",
          "data": {
            "text/plain": [
              "array([-1.01800761, -0.18939889, -0.20029178, ...,  0.53971538,\n",
              "        0.1207309 ,  0.73066347])"
            ]
          },
          "metadata": {},
          "execution_count": 50
        }
      ]
    },
    {
      "cell_type": "code",
      "source": [
        "y_2 = model1.predict(x_n)\n"
      ],
      "metadata": {
        "id": "bPbqxA_U0RN5"
      },
      "execution_count": 42,
      "outputs": []
    },
    {
      "cell_type": "code",
      "source": [
        "plt.scatter(y_2,e)"
      ],
      "metadata": {
        "colab": {
          "base_uri": "https://localhost:8080/",
          "height": 448
        },
        "id": "C96MLFfn0YxZ",
        "outputId": "b870f477-1778-4838-b3f5-1dcd8a0b50d9"
      },
      "execution_count": 51,
      "outputs": [
        {
          "output_type": "execute_result",
          "data": {
            "text/plain": [
              "<matplotlib.collections.PathCollection at 0x7faf594f3650>"
            ]
          },
          "metadata": {},
          "execution_count": 51
        },
        {
          "output_type": "display_data",
          "data": {
            "text/plain": [
              "<Figure size 640x480 with 1 Axes>"
            ],
            "image/png": "[encoded data removed]"
          },
          "metadata": {}
        }
      ]
    }
  ]
}