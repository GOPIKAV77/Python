{
  "cells": [
    {
      "cell_type": "markdown",
      "metadata": {
        "id": "view-in-github",
        "colab_type": "text"
      },
      "source": [
        "<a href=\"https://colab.research.google.com/github/GOPIKAV77/Python/blob/main/python_ex_8.ipynb\" target=\"_parent\"><img src=\"https://colab.research.google.com/assets/colab-badge.svg\" alt=\"Open In Colab\"/></a>"
      ]
    },
    {
      "cell_type": "markdown",
      "source": [
        "Asks the user whether he wants to join a particular class. If he wants to join then asks his/her details"
      ],
      "metadata": {
        "id": "IAjxoho9_MoB"
      }
    },
    {
      "cell_type": "code",
      "source": [
        "def join_class():\n",
        "  response = input(\"Do you want to join this class (yes/no):\").strip()\n",
        "  if response == \"yes\":\n",
        "    name = input(\"Enter your name: \").strip()\n",
        "    gender = input(\"Enter your gender: \").strip()\n",
        "    phoneNumber = input(\"Enter your phone number: \").strip()\n",
        "\n",
        "    print(\"Please check whether your details are correct \")\n",
        "    print(\"-------------------------------------------------------\")\n",
        "    print(\"|  name   |       gender     |     phone number        |\")\n",
        "    print(\"--------------------------------------------------------\")\n",
        "    print(f\"{name:<10}|    {gender:<14} |   {phoneNumber:<14}\")\n",
        "    print(\"--------------------------------------------------------\")\n",
        "  else:\n",
        "      print(\"Have a nice day\")\n",
        "\n",
        "join_class()"
      ],
      "metadata": {
        "colab": {
          "base_uri": "https://localhost:8080/"
        },
        "id": "4tKEQY8f7YfS",
        "outputId": "c5da41bc-8017-4aee-84af-ae8f7f5b82f0"
      },
      "execution_count": 1,
      "outputs": [
        {
          "output_type": "stream",
          "name": "stdout",
          "text": [
            "Do you want to join this class (yes/no):no\n",
            "Have a nice day\n"
          ]
        }
      ]
    },
    {
      "cell_type": "code",
      "source": [
        "def join_class():\n",
        "  response = input(\"Do you want to join this class (yes/no):\").strip()\n",
        "  if response == \"yes\":\n",
        "    name = input(\"Enter your name: \").strip()\n",
        "    gender = input(\"Enter your gender: \").strip()\n",
        "    phoneNumber = input(\"Enter your phone number: \").strip()\n",
        "\n",
        "    print(\"Please check whether your details are correct \")\n",
        "    print(\"-------------------------------------------------------\")\n",
        "    print(\"|  name   |       gender     |     phone number        |\")\n",
        "    print(\"--------------------------------------------------------\")\n",
        "    print(f\"{name:<10}|    {gender:<14} |   {phoneNumber:<14}\")\n",
        "    print(\"--------------------------------------------------------\")\n",
        "  else:\n",
        "      print(\"Have a nice day\")\n",
        "\n",
        "join_class()"
      ],
      "metadata": {
        "colab": {
          "base_uri": "https://localhost:8080/"
        },
        "id": "IV-IzFupCiV7",
        "outputId": "52a208cc-3f0f-4e94-f4f9-608efa6063b9"
      },
      "execution_count": 2,
      "outputs": [
        {
          "output_type": "stream",
          "name": "stdout",
          "text": [
            "Do you want to join this class (yes/no):yes\n",
            "Enter your name: Ak\n",
            "Enter your gender: male\n",
            "Enter your phone number: 78900\n",
            "Please check whether your details are correct \n",
            "-------------------------------------------------------\n",
            "|  name   |       gender     |     phone number        |\n",
            "--------------------------------------------------------\n",
            "Ak        |    male           |   78900         \n",
            "--------------------------------------------------------\n"
          ]
        }
      ]
    }
  ],
  "metadata": {
    "colab": {
      "provenance": [],
      "authorship_tag": "ABX9TyPA5+eDL2zlGyTyQBbXqTSL",
      "include_colab_link": true
    },
    "kernelspec": {
      "display_name": "Python 3",
      "name": "python3"
    },
    "language_info": {
      "name": "python"
    }
  },
  "nbformat": 4,
  "nbformat_minor": 0
}