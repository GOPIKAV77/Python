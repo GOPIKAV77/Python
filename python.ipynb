{
  "cells": [
    {
      "cell_type": "markdown",
      "metadata": {
        "id": "view-in-github",
        "colab_type": "text"
      },
      "source": [
        "<a href=\"https://colab.research.google.com/github/GOPIKAV77/Python/blob/main/python.ipynb\" target=\"_parent\"><img src=\"https://colab.research.google.com/assets/colab-badge.svg\" alt=\"Open In Colab\"/></a>"
      ]
    },
    {
      "cell_type": "code",
      "source": [
        "def checkDigits(n):\n",
        "\n",
        "  while True:\n",
        "    r = n%10\n",
        "\n",
        "    if (r==3 or r==4 or r==6 or r==7 or r==9):\n",
        "      return False\n",
        "\n",
        "\n",
        "    n //= 10\n",
        "\n",
        "    if n == 0:\n",
        "\n",
        "       break\n",
        "def isPrime(n):\n",
        "\n",
        "  if (n<=1):\n",
        "    return False\n",
        "\n",
        "  for i in range(2,n+1) :\n",
        "    if i*i >n:\n",
        "      break\n",
        "\n",
        "\n",
        "    if (n%i==0):\n",
        "      return False\n",
        "\n",
        "def checkDigits(n):\n",
        "\n",
        "  while True:\n",
        "    r = n%10\n",
        "\n",
        "    if (r==3 or r==4 or r==6 or r==7 or r==9):\n",
        "      return False\n",
        "\n",
        "\n",
        "    n //= 10\n",
        "\n",
        "    if n == 0:\n",
        "\n",
        "       break\n",
        "def isPrime(n):\n",
        "\n",
        "  if (n<=1):\n",
        "    return False\n",
        "\n",
        "  for i in range(2,n+1) :\n",
        "    if i*i >n:\n",
        "      break\n",
        "\n",
        "\n",
        "    if (n%i==0):\n",
        "      return False\n",
        "\n",
        "  return True\n",
        "\n",
        "if __name__ == '__main__':\n",
        "  N = 10000011\n",
        "\n",
        "  if (isPrime(N)):\n",
        "    print(\"True\")\n",
        "  else:\n",
        "    print(\"False\")\n",
        "\n"
      ],
      "metadata": {
        "id": "cT7fIUkpiQyV",
        "colab": {
          "base_uri": "https://localhost:8080/"
        },
        "outputId": "21b8fa6a-58f6-4d1c-c32f-cd8f54db95c8"
      },
      "execution_count": null,
      "outputs": [
        {
          "output_type": "stream",
          "name": "stdout",
          "text": [
            "False\n"
          ]
        }
      ]
    },
    {
      "cell_type": "code",
      "source": [],
      "metadata": {
        "id": "cdO2xjiZiQu2"
      },
      "execution_count": null,
      "outputs": []
    },
    {
      "cell_type": "code",
      "source": [],
      "metadata": {
        "id": "Z3j4ZzwyiQpY"
      },
      "execution_count": null,
      "outputs": []
    }
  ],
  "metadata": {
    "colab": {
      "provenance": [],
      "authorship_tag": "ABX9TyMuGYBFbcwdEVxfyUpwN0fE",
      "include_colab_link": true
    },
    "kernelspec": {
      "display_name": "Python 3",
      "name": "python3"
    },
    "language_info": {
      "name": "python"
    }
  },
  "nbformat": 4,
  "nbformat_minor": 0
}