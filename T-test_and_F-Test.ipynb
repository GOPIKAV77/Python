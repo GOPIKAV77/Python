{
  "nbformat": 4,
  "nbformat_minor": 0,
  "metadata": {
    "colab": {
      "provenance": [],
      "authorship_tag": "ABX9TyNDrRlfcunWnys12WaaVGB/",
      "include_colab_link": true
    },
    "kernelspec": {
      "name": "python3",
      "display_name": "Python 3"
    },
    "language_info": {
      "name": "python"
    }
  },
  "cells": [
    {
      "cell_type": "markdown",
      "metadata": {
        "id": "view-in-github",
        "colab_type": "text"
      },
      "source": [
        "<a href=\"https://colab.research.google.com/github/GOPIKAV77/Python/blob/main/T-test_and_F-Test.ipynb\" target=\"_parent\"><img src=\"https://colab.research.google.com/assets/colab-badge.svg\" alt=\"Open In Colab\"/></a>"
      ]
    },
    {
      "cell_type": "markdown",
      "source": [
        "**F**- **Test** **and** **T**-**Test**\n",
        "\n",
        "**F**-**Test**:An F-test is used to verify whether the variance among different groups is significantly different.\n",
        "\n",
        "**T**-**Test**: A T-test is used to compare the means of different groups .\n",
        "\n",
        "**In** **ANOVA**\n",
        "\n",
        "In Anova, F-test is used to determine the significance of the model and T-test is used to determine the significance of the groups, that is which group differ.\n",
        "\n",
        "An F-Test checks whether a significant relationship exists between dependent variables and a set of independent variables.\n",
        "\n",
        "T-Test checks the significance of each of the individual independent variables."
      ],
      "metadata": {
        "id": "EDC4Oi1rhIHh"
      }
    },
    {
      "cell_type": "markdown",
      "source": [
        "**F-TEST**\n",
        "\n",
        "*y = Bo + B1 X1 + B2 X2 + ......+ Bn Xn*.\n",
        "\n",
        "Null Hypothesis:           *Ho: Bo = B1 = B2 = .......= Bn=0*\n",
        "\n",
        "Alternate Hypothesis:      *Ha: one or more Bi not equal to 0.*\n",
        "\n",
        "TEST STATISTIC:  \n",
        "\n",
        "F = MSR/MSE, MSR - mean square due to regression, MSE- Mean square due to error.\n",
        "\n",
        "REJECTION RULE:\n",
        "\n",
        "using P-value :  Reject *Ho* if p-value less than or equal to alpha\n",
        "\n",
        "using critical value: Reject *Ho* if *F* is greater than *Fo*\n",
        "\n",
        "where *Fo* is based on *F*-distribution with P degrees of freedom in the numerator and n-p-1 degrees of freedom in the denominator.\n",
        "\n"
      ],
      "metadata": {
        "id": "OOMXzviYko5Z"
      }
    },
    {
      "cell_type": "markdown",
      "source": [
        "**T-Test**\n",
        "\n",
        "*y = Bo + B1 X1 + B2 X2 + .... + Bn Xn.*\n",
        "\n",
        "Null Hypothesis:     *Ho: Bo= B1= B2=....= Bn=0*\n",
        "\n",
        "Alternate Hypothesis:      *Ha : one or more Bi not equal to 0, i= 1,2,3,...,n*\n",
        "\n",
        "**TEST STATISTIC:**\n",
        "\n",
        "t = bi/Sbi, bi is the coefficient of predictor variable and Sbi is the standard error of coefficient.\n",
        "\n",
        "**REJECTION RULE:**\n",
        "\n",
        "using p-value :  Reject *Ho* if p-value is less than or equal to alpha\n",
        "\n",
        "using critical-value: Reject *Ho* if  *t* is less than *-t_alpha/2*  or if *t* greater than or equal to *t_alpha/2*, where *t_alpha/2* - *t*-distribution with n-p-1 degrees of freedom."
      ],
      "metadata": {
        "id": "0Y-2PRZrnU6k"
      }
    },
    {
      "cell_type": "code",
      "source": [
        "import pandas as pd\n",
        "from statsmodels.formula.api import ols\n",
        "from statsmodels.stats.anova import anova_lm\n",
        "df = pd.read_excel(\"TRUCKING.xlsx\")"
      ],
      "metadata": {
        "id": "oMJ84n1zriAr"
      },
      "execution_count": 5,
      "outputs": []
    },
    {
      "cell_type": "markdown",
      "source": [
        "# F Test"
      ],
      "metadata": {
        "id": "bFcjtW2IrVaM"
      }
    },
    {
      "cell_type": "code",
      "source": [
        "m = ols(\"travel_time~x1+n_of_deliveries\",data=df).fit()\n",
        "m.summary()"
      ],
      "metadata": {
        "colab": {
          "base_uri": "https://localhost:8080/",
          "height": 519
        },
        "id": "0hSzJfI9hX5A",
        "outputId": "183e1997-8c24-4b34-92a6-34f2a40e838e"
      },
      "execution_count": 4,
      "outputs": [
        {
          "output_type": "stream",
          "name": "stderr",
          "text": [
            "/usr/local/lib/python3.11/dist-packages/scipy/stats/_axis_nan_policy.py:531: UserWarning: kurtosistest only valid for n>=20 ... continuing anyway, n=10\n",
            "  res = hypotest_fun_out(*samples, **kwds)\n"
          ]
        },
        {
          "output_type": "execute_result",
          "data": {
            "text/plain": [
              "<class 'statsmodels.iolib.summary.Summary'>\n",
              "\"\"\"\n",
              "                            OLS Regression Results                            \n",
              "==============================================================================\n",
              "Dep. Variable:            travel_time   R-squared:                       0.904\n",
              "Model:                            OLS   Adj. R-squared:                  0.876\n",
              "Method:                 Least Squares   F-statistic:                     32.88\n",
              "Date:                Fri, 21 Feb 2025   Prob (F-statistic):           0.000276\n",
              "Time:                        13:26:46   Log-Likelihood:                -6.8398\n",
              "No. Observations:                  10   AIC:                             19.68\n",
              "Df Residuals:                       7   BIC:                             20.59\n",
              "Df Model:                           2                                         \n",
              "Covariance Type:            nonrobust                                         \n",
              "===================================================================================\n",
              "                      coef    std err          t      P>|t|      [0.025      0.975]\n",
              "-----------------------------------------------------------------------------------\n",
              "Intercept          -0.8687      0.952     -0.913      0.392      -3.119       1.381\n",
              "x1                  0.0611      0.010      6.182      0.000       0.038       0.085\n",
              "n_of_deliveries     0.9234      0.221      4.176      0.004       0.401       1.446\n",
              "==============================================================================\n",
              "Omnibus:                        0.039   Durbin-Watson:                   2.515\n",
              "Prob(Omnibus):                  0.981   Jarque-Bera (JB):                0.151\n",
              "Skew:                           0.074   Prob(JB):                        0.927\n",
              "Kurtosis:                       2.418   Cond. No.                         435.\n",
              "==============================================================================\n",
              "\n",
              "Notes:\n",
              "[1] Standard Errors assume that the covariance matrix of the errors is correctly specified.\n",
              "\"\"\""
            ],
            "text/html": [
              "<table class=\"simpletable\">\n",
              "<caption>OLS Regression Results</caption>\n",
              "<tr>\n",
              "  <th>Dep. Variable:</th>       <td>travel_time</td>   <th>  R-squared:         </th> <td>   0.904</td>\n",
              "</tr>\n",
              "<tr>\n",
              "  <th>Model:</th>                   <td>OLS</td>       <th>  Adj. R-squared:    </th> <td>   0.876</td>\n",
              "</tr>\n",
              "<tr>\n",
              "  <th>Method:</th>             <td>Least Squares</td>  <th>  F-statistic:       </th> <td>   32.88</td>\n",
              "</tr>\n",
              "<tr>\n",
              "  <th>Date:</th>             <td>Fri, 21 Feb 2025</td> <th>  Prob (F-statistic):</th> <td>0.000276</td>\n",
              "</tr>\n",
              "<tr>\n",
              "  <th>Time:</th>                 <td>13:26:46</td>     <th>  Log-Likelihood:    </th> <td> -6.8398</td>\n",
              "</tr>\n",
              "<tr>\n",
              "  <th>No. Observations:</th>      <td>    10</td>      <th>  AIC:               </th> <td>   19.68</td>\n",
              "</tr>\n",
              "<tr>\n",
              "  <th>Df Residuals:</th>          <td>     7</td>      <th>  BIC:               </th> <td>   20.59</td>\n",
              "</tr>\n",
              "<tr>\n",
              "  <th>Df Model:</th>              <td>     2</td>      <th>                     </th>     <td> </td>   \n",
              "</tr>\n",
              "<tr>\n",
              "  <th>Covariance Type:</th>      <td>nonrobust</td>    <th>                     </th>     <td> </td>   \n",
              "</tr>\n",
              "</table>\n",
              "<table class=\"simpletable\">\n",
              "<tr>\n",
              "         <td></td>            <th>coef</th>     <th>std err</th>      <th>t</th>      <th>P>|t|</th>  <th>[0.025</th>    <th>0.975]</th>  \n",
              "</tr>\n",
              "<tr>\n",
              "  <th>Intercept</th>       <td>   -0.8687</td> <td>    0.952</td> <td>   -0.913</td> <td> 0.392</td> <td>   -3.119</td> <td>    1.381</td>\n",
              "</tr>\n",
              "<tr>\n",
              "  <th>x1</th>              <td>    0.0611</td> <td>    0.010</td> <td>    6.182</td> <td> 0.000</td> <td>    0.038</td> <td>    0.085</td>\n",
              "</tr>\n",
              "<tr>\n",
              "  <th>n_of_deliveries</th> <td>    0.9234</td> <td>    0.221</td> <td>    4.176</td> <td> 0.004</td> <td>    0.401</td> <td>    1.446</td>\n",
              "</tr>\n",
              "</table>\n",
              "<table class=\"simpletable\">\n",
              "<tr>\n",
              "  <th>Omnibus:</th>       <td> 0.039</td> <th>  Durbin-Watson:     </th> <td>   2.515</td>\n",
              "</tr>\n",
              "<tr>\n",
              "  <th>Prob(Omnibus):</th> <td> 0.981</td> <th>  Jarque-Bera (JB):  </th> <td>   0.151</td>\n",
              "</tr>\n",
              "<tr>\n",
              "  <th>Skew:</th>          <td> 0.074</td> <th>  Prob(JB):          </th> <td>   0.927</td>\n",
              "</tr>\n",
              "<tr>\n",
              "  <th>Kurtosis:</th>      <td> 2.418</td> <th>  Cond. No.          </th> <td>    435.</td>\n",
              "</tr>\n",
              "</table><br/><br/>Notes:<br/>[1] Standard Errors assume that the covariance matrix of the errors is correctly specified."
            ],
            "text/latex": "\\begin{center}\n\\begin{tabular}{lclc}\n\\toprule\n\\textbf{Dep. Variable:}    &   travel\\_time   & \\textbf{  R-squared:         } &     0.904   \\\\\n\\textbf{Model:}            &       OLS        & \\textbf{  Adj. R-squared:    } &     0.876   \\\\\n\\textbf{Method:}           &  Least Squares   & \\textbf{  F-statistic:       } &     32.88   \\\\\n\\textbf{Date:}             & Fri, 21 Feb 2025 & \\textbf{  Prob (F-statistic):} &  0.000276   \\\\\n\\textbf{Time:}             &     13:26:46     & \\textbf{  Log-Likelihood:    } &   -6.8398   \\\\\n\\textbf{No. Observations:} &          10      & \\textbf{  AIC:               } &     19.68   \\\\\n\\textbf{Df Residuals:}     &           7      & \\textbf{  BIC:               } &     20.59   \\\\\n\\textbf{Df Model:}         &           2      & \\textbf{                     } &             \\\\\n\\textbf{Covariance Type:}  &    nonrobust     & \\textbf{                     } &             \\\\\n\\bottomrule\n\\end{tabular}\n\\begin{tabular}{lcccccc}\n                           & \\textbf{coef} & \\textbf{std err} & \\textbf{t} & \\textbf{P$> |$t$|$} & \\textbf{[0.025} & \\textbf{0.975]}  \\\\\n\\midrule\n\\textbf{Intercept}         &      -0.8687  &        0.952     &    -0.913  &         0.392        &       -3.119    &        1.381     \\\\\n\\textbf{x1}                &       0.0611  &        0.010     &     6.182  &         0.000        &        0.038    &        0.085     \\\\\n\\textbf{n\\_of\\_deliveries} &       0.9234  &        0.221     &     4.176  &         0.004        &        0.401    &        1.446     \\\\\n\\bottomrule\n\\end{tabular}\n\\begin{tabular}{lclc}\n\\textbf{Omnibus:}       &  0.039 & \\textbf{  Durbin-Watson:     } &    2.515  \\\\\n\\textbf{Prob(Omnibus):} &  0.981 & \\textbf{  Jarque-Bera (JB):  } &    0.151  \\\\\n\\textbf{Skew:}          &  0.074 & \\textbf{  Prob(JB):          } &    0.927  \\\\\n\\textbf{Kurtosis:}      &  2.418 & \\textbf{  Cond. No.          } &     435.  \\\\\n\\bottomrule\n\\end{tabular}\n%\\caption{OLS Regression Results}\n\\end{center}\n\nNotes: \\newline\n [1] Standard Errors assume that the covariance matrix of the errors is correctly specified."
          },
          "metadata": {},
          "execution_count": 4
        }
      ]
    },
    {
      "cell_type": "markdown",
      "source": [
        "from above code we get, **F-statistic:\t32.88**, **Prob (F-statistic):\t0.000276**"
      ],
      "metadata": {
        "id": "01hbeJ_qsYLl"
      }
    },
    {
      "cell_type": "markdown",
      "source": [],
      "metadata": {
        "id": "gC_-K5tqturd"
      }
    },
    {
      "cell_type": "code",
      "source": [
        "print(anova_lm(m)) # anova value"
      ],
      "metadata": {
        "colab": {
          "base_uri": "https://localhost:8080/"
        },
        "id": "rNL91J4yhXUK",
        "outputId": "f4df757e-1088-4516-d912-32498f5d04f3"
      },
      "execution_count": 6,
      "outputs": [
        {
          "output_type": "stream",
          "name": "stdout",
          "text": [
            "                  df     sum_sq    mean_sq          F    PR(>F)\n",
            "x1               1.0  15.871304  15.871304  48.315660  0.000221\n",
            "n_of_deliveries  1.0   5.729252   5.729252  17.441075  0.004157\n",
            "Residual         7.0   2.299443   0.328492        NaN       NaN\n"
          ]
        }
      ]
    },
    {
      "cell_type": "markdown",
      "source": [
        "# T-Test"
      ],
      "metadata": {
        "id": "Q3gmVyKjstgv"
      }
    },
    {
      "cell_type": "code",
      "source": [
        "r = ols(\"travel_time~x1+n_of_deliveries\",data = df).fit()\n",
        "r.summary()"
      ],
      "metadata": {
        "colab": {
          "base_uri": "https://localhost:8080/",
          "height": 519
        },
        "id": "qMe1ngSEhHMP",
        "outputId": "d8c598d4-f4b1-4085-8542-98beae40c9e8"
      },
      "execution_count": 7,
      "outputs": [
        {
          "output_type": "stream",
          "name": "stderr",
          "text": [
            "/usr/local/lib/python3.11/dist-packages/scipy/stats/_axis_nan_policy.py:531: UserWarning: kurtosistest only valid for n>=20 ... continuing anyway, n=10\n",
            "  res = hypotest_fun_out(*samples, **kwds)\n"
          ]
        },
        {
          "output_type": "execute_result",
          "data": {
            "text/plain": [
              "<class 'statsmodels.iolib.summary.Summary'>\n",
              "\"\"\"\n",
              "                            OLS Regression Results                            \n",
              "==============================================================================\n",
              "Dep. Variable:            travel_time   R-squared:                       0.904\n",
              "Model:                            OLS   Adj. R-squared:                  0.876\n",
              "Method:                 Least Squares   F-statistic:                     32.88\n",
              "Date:                Fri, 21 Feb 2025   Prob (F-statistic):           0.000276\n",
              "Time:                        13:30:33   Log-Likelihood:                -6.8398\n",
              "No. Observations:                  10   AIC:                             19.68\n",
              "Df Residuals:                       7   BIC:                             20.59\n",
              "Df Model:                           2                                         \n",
              "Covariance Type:            nonrobust                                         \n",
              "===================================================================================\n",
              "                      coef    std err          t      P>|t|      [0.025      0.975]\n",
              "-----------------------------------------------------------------------------------\n",
              "Intercept          -0.8687      0.952     -0.913      0.392      -3.119       1.381\n",
              "x1                  0.0611      0.010      6.182      0.000       0.038       0.085\n",
              "n_of_deliveries     0.9234      0.221      4.176      0.004       0.401       1.446\n",
              "==============================================================================\n",
              "Omnibus:                        0.039   Durbin-Watson:                   2.515\n",
              "Prob(Omnibus):                  0.981   Jarque-Bera (JB):                0.151\n",
              "Skew:                           0.074   Prob(JB):                        0.927\n",
              "Kurtosis:                       2.418   Cond. No.                         435.\n",
              "==============================================================================\n",
              "\n",
              "Notes:\n",
              "[1] Standard Errors assume that the covariance matrix of the errors is correctly specified.\n",
              "\"\"\""
            ],
            "text/html": [
              "<table class=\"simpletable\">\n",
              "<caption>OLS Regression Results</caption>\n",
              "<tr>\n",
              "  <th>Dep. Variable:</th>       <td>travel_time</td>   <th>  R-squared:         </th> <td>   0.904</td>\n",
              "</tr>\n",
              "<tr>\n",
              "  <th>Model:</th>                   <td>OLS</td>       <th>  Adj. R-squared:    </th> <td>   0.876</td>\n",
              "</tr>\n",
              "<tr>\n",
              "  <th>Method:</th>             <td>Least Squares</td>  <th>  F-statistic:       </th> <td>   32.88</td>\n",
              "</tr>\n",
              "<tr>\n",
              "  <th>Date:</th>             <td>Fri, 21 Feb 2025</td> <th>  Prob (F-statistic):</th> <td>0.000276</td>\n",
              "</tr>\n",
              "<tr>\n",
              "  <th>Time:</th>                 <td>13:30:33</td>     <th>  Log-Likelihood:    </th> <td> -6.8398</td>\n",
              "</tr>\n",
              "<tr>\n",
              "  <th>No. Observations:</th>      <td>    10</td>      <th>  AIC:               </th> <td>   19.68</td>\n",
              "</tr>\n",
              "<tr>\n",
              "  <th>Df Residuals:</th>          <td>     7</td>      <th>  BIC:               </th> <td>   20.59</td>\n",
              "</tr>\n",
              "<tr>\n",
              "  <th>Df Model:</th>              <td>     2</td>      <th>                     </th>     <td> </td>   \n",
              "</tr>\n",
              "<tr>\n",
              "  <th>Covariance Type:</th>      <td>nonrobust</td>    <th>                     </th>     <td> </td>   \n",
              "</tr>\n",
              "</table>\n",
              "<table class=\"simpletable\">\n",
              "<tr>\n",
              "         <td></td>            <th>coef</th>     <th>std err</th>      <th>t</th>      <th>P>|t|</th>  <th>[0.025</th>    <th>0.975]</th>  \n",
              "</tr>\n",
              "<tr>\n",
              "  <th>Intercept</th>       <td>   -0.8687</td> <td>    0.952</td> <td>   -0.913</td> <td> 0.392</td> <td>   -3.119</td> <td>    1.381</td>\n",
              "</tr>\n",
              "<tr>\n",
              "  <th>x1</th>              <td>    0.0611</td> <td>    0.010</td> <td>    6.182</td> <td> 0.000</td> <td>    0.038</td> <td>    0.085</td>\n",
              "</tr>\n",
              "<tr>\n",
              "  <th>n_of_deliveries</th> <td>    0.9234</td> <td>    0.221</td> <td>    4.176</td> <td> 0.004</td> <td>    0.401</td> <td>    1.446</td>\n",
              "</tr>\n",
              "</table>\n",
              "<table class=\"simpletable\">\n",
              "<tr>\n",
              "  <th>Omnibus:</th>       <td> 0.039</td> <th>  Durbin-Watson:     </th> <td>   2.515</td>\n",
              "</tr>\n",
              "<tr>\n",
              "  <th>Prob(Omnibus):</th> <td> 0.981</td> <th>  Jarque-Bera (JB):  </th> <td>   0.151</td>\n",
              "</tr>\n",
              "<tr>\n",
              "  <th>Skew:</th>          <td> 0.074</td> <th>  Prob(JB):          </th> <td>   0.927</td>\n",
              "</tr>\n",
              "<tr>\n",
              "  <th>Kurtosis:</th>      <td> 2.418</td> <th>  Cond. No.          </th> <td>    435.</td>\n",
              "</tr>\n",
              "</table><br/><br/>Notes:<br/>[1] Standard Errors assume that the covariance matrix of the errors is correctly specified."
            ],
            "text/latex": "\\begin{center}\n\\begin{tabular}{lclc}\n\\toprule\n\\textbf{Dep. Variable:}    &   travel\\_time   & \\textbf{  R-squared:         } &     0.904   \\\\\n\\textbf{Model:}            &       OLS        & \\textbf{  Adj. R-squared:    } &     0.876   \\\\\n\\textbf{Method:}           &  Least Squares   & \\textbf{  F-statistic:       } &     32.88   \\\\\n\\textbf{Date:}             & Fri, 21 Feb 2025 & \\textbf{  Prob (F-statistic):} &  0.000276   \\\\\n\\textbf{Time:}             &     13:30:33     & \\textbf{  Log-Likelihood:    } &   -6.8398   \\\\\n\\textbf{No. Observations:} &          10      & \\textbf{  AIC:               } &     19.68   \\\\\n\\textbf{Df Residuals:}     &           7      & \\textbf{  BIC:               } &     20.59   \\\\\n\\textbf{Df Model:}         &           2      & \\textbf{                     } &             \\\\\n\\textbf{Covariance Type:}  &    nonrobust     & \\textbf{                     } &             \\\\\n\\bottomrule\n\\end{tabular}\n\\begin{tabular}{lcccccc}\n                           & \\textbf{coef} & \\textbf{std err} & \\textbf{t} & \\textbf{P$> |$t$|$} & \\textbf{[0.025} & \\textbf{0.975]}  \\\\\n\\midrule\n\\textbf{Intercept}         &      -0.8687  &        0.952     &    -0.913  &         0.392        &       -3.119    &        1.381     \\\\\n\\textbf{x1}                &       0.0611  &        0.010     &     6.182  &         0.000        &        0.038    &        0.085     \\\\\n\\textbf{n\\_of\\_deliveries} &       0.9234  &        0.221     &     4.176  &         0.004        &        0.401    &        1.446     \\\\\n\\bottomrule\n\\end{tabular}\n\\begin{tabular}{lclc}\n\\textbf{Omnibus:}       &  0.039 & \\textbf{  Durbin-Watson:     } &    2.515  \\\\\n\\textbf{Prob(Omnibus):} &  0.981 & \\textbf{  Jarque-Bera (JB):  } &    0.151  \\\\\n\\textbf{Skew:}          &  0.074 & \\textbf{  Prob(JB):          } &    0.927  \\\\\n\\textbf{Kurtosis:}      &  2.418 & \\textbf{  Cond. No.          } &     435.  \\\\\n\\bottomrule\n\\end{tabular}\n%\\caption{OLS Regression Results}\n\\end{center}\n\nNotes: \\newline\n [1] Standard Errors assume that the covariance matrix of the errors is correctly specified."
          },
          "metadata": {},
          "execution_count": 7
        }
      ]
    },
    {
      "cell_type": "markdown",
      "source": [
        "The t-test values are,\n",
        "\n",
        "\n",
        "\n",
        "\n",
        "\n",
        "---\n",
        "\n",
        "```\n",
        "\n",
        "\n",
        "coef\tstd err\tt\tP>|t|\t[0.025\t0.975]\n",
        "Intercept\t-0.8687\t0.952\t-0.913\t0.392\t-3.119\t1.381\n",
        "x1\t0.0611\t0.010\t6.182\t0.000\t0.038\t0.085\n",
        "n_of_deliveries\t0.9234\t0.221\t4.176\t0.004\t0.401\t1.446\n"
      ],
      "metadata": {
        "id": "LqmFtzPftEHt"
      }
    },
    {
      "cell_type": "code",
      "source": [
        "print(anova_lm(r))#anova value"
      ],
      "metadata": {
        "colab": {
          "base_uri": "https://localhost:8080/"
        },
        "id": "-5BlDD3htsMv",
        "outputId": "0a9bfe6f-61a3-4464-ddce-daa4dd4a76e8"
      },
      "execution_count": 8,
      "outputs": [
        {
          "output_type": "stream",
          "name": "stdout",
          "text": [
            "                  df     sum_sq    mean_sq          F    PR(>F)\n",
            "x1               1.0  15.871304  15.871304  48.315660  0.000221\n",
            "n_of_deliveries  1.0   5.729252   5.729252  17.441075  0.004157\n",
            "Residual         7.0   2.299443   0.328492        NaN       NaN\n"
          ]
        }
      ]
    }
  ]
}