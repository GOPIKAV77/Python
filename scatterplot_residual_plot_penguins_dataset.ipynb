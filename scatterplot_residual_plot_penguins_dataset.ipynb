{
  "nbformat": 4,
  "nbformat_minor": 0,
  "metadata": {
    "colab": {
      "provenance": [],
      "authorship_tag": "ABX9TyOWrOYRLq6yjrWMDeXdCra7",
      "include_colab_link": true
    },
    "kernelspec": {
      "name": "python3",
      "display_name": "Python 3"
    },
    "language_info": {
      "name": "python"
    }
  },
  "cells": [
    {
      "cell_type": "markdown",
      "metadata": {
        "id": "view-in-github",
        "colab_type": "text"
      },
      "source": [
        "<a href=\"https://colab.research.google.com/github/GOPIKAV77/Python/blob/main/scatterplot_residual_plot_penguins_dataset.ipynb\" target=\"_parent\"><img src=\"https://colab.research.google.com/assets/colab-badge.svg\" alt=\"Open In Colab\"/></a>"
      ]
    },
    {
      "cell_type": "code",
      "source": [
        "import pandas as pd\n",
        "import numpy as np\n",
        "import matplotlib.pyplot as plt\n",
        "import statsmodels.api as sm\n"
      ],
      "metadata": {
        "id": "2OGwGov9AU8Y"
      },
      "execution_count": 1,
      "outputs": []
    },
    {
      "cell_type": "code",
      "source": [
        "df = pd.read_csv(\"penguins_size.csv\")"
      ],
      "metadata": {
        "id": "IhPONSrdAVCV"
      },
      "execution_count": 2,
      "outputs": []
    },
    {
      "cell_type": "code",
      "source": [
        "df.head(3)"
      ],
      "metadata": {
        "colab": {
          "base_uri": "https://localhost:8080/",
          "height": 163
        },
        "id": "Re1mIzMZAVFo",
        "outputId": "630b1242-c39a-4ed6-b866-13e9dfaaefb5"
      },
      "execution_count": 4,
      "outputs": [
        {
          "output_type": "execute_result",
          "data": {
            "text/plain": [
              "  species     island  culmen_length_mm  culmen_depth_mm  flipper_length_mm  body_mass_g     sex\n",
              "0  Adelie  Torgersen              39.1             18.7              181.0       3750.0    MALE\n",
              "1  Adelie  Torgersen              39.5             17.4              186.0       3800.0  FEMALE\n",
              "2  Adelie  Torgersen              40.3             18.0              195.0       3250.0  FEMALE"
            ],
            "text/html": [
              "\n",
              "  <div id=\"df-aa85dda3-b1b6-46d2-b6f0-4466582bbd48\" class=\"colab-df-container\">\n",
              "    <div>\n",
              "<style scoped>\n",
              "    .dataframe tbody tr th:only-of-type {\n",
              "        vertical-align: middle;\n",
              "    }\n",
              "\n",
              "    .dataframe tbody tr th {\n",
              "        vertical-align: top;\n",
              "    }\n",
              "\n",
              "    .dataframe thead th {\n",
              "        text-align: right;\n",
              "    }\n",
              "</style>\n",
              "<table border=\"1\" class=\"dataframe\">\n",
              "  <thead>\n",
              "    <tr style=\"text-align: right;\">\n",
              "      <th></th>\n",
              "      <th>species</th>\n",
              "      <th>island</th>\n",
              "      <th>culmen_length_mm</th>\n",
              "      <th>culmen_depth_mm</th>\n",
              "      <th>flipper_length_mm</th>\n",
              "      <th>body_mass_g</th>\n",
              "      <th>sex</th>\n",
              "    </tr>\n",
              "  </thead>\n",
              "  <tbody>\n",
              "    <tr>\n",
              "      <th>0</th>\n",
              "      <td>Adelie</td>\n",
              "      <td>Torgersen</td>\n",
              "      <td>39.1</td>\n",
              "      <td>18.7</td>\n",
              "      <td>181.0</td>\n",
              "      <td>3750.0</td>\n",
              "      <td>MALE</td>\n",
              "    </tr>\n",
              "    <tr>\n",
              "      <th>1</th>\n",
              "      <td>Adelie</td>\n",
              "      <td>Torgersen</td>\n",
              "      <td>39.5</td>\n",
              "      <td>17.4</td>\n",
              "      <td>186.0</td>\n",
              "      <td>3800.0</td>\n",
              "      <td>FEMALE</td>\n",
              "    </tr>\n",
              "    <tr>\n",
              "      <th>2</th>\n",
              "      <td>Adelie</td>\n",
              "      <td>Torgersen</td>\n",
              "      <td>40.3</td>\n",
              "      <td>18.0</td>\n",
              "      <td>195.0</td>\n",
              "      <td>3250.0</td>\n",
              "      <td>FEMALE</td>\n",
              "    </tr>\n",
              "  </tbody>\n",
              "</table>\n",
              "</div>\n",
              "    <div class=\"colab-df-buttons\">\n",
              "\n",
              "  <div class=\"colab-df-container\">\n",
              "    <button class=\"colab-df-convert\" onclick=\"convertToInteractive('df-aa85dda3-b1b6-46d2-b6f0-4466582bbd48')\"\n",
              "            title=\"Convert this dataframe to an interactive table.\"\n",
              "            style=\"display:none;\">\n",
              "\n",
              "  <svg xmlns=\"http://www.w3.org/2000/svg\" height=\"24px\" viewBox=\"0 -960 960 960\">\n",
              "    <path d=\"M120-120v-720h720v720H120Zm60-500h600v-160H180v160Zm220 220h160v-160H400v160Zm0 220h160v-160H400v160ZM180-400h160v-160H180v160Zm440 0h160v-160H620v160ZM180-180h160v-160H180v160Zm440 0h160v-160H620v160Z\"/>\n",
              "  </svg>\n",
              "    </button>\n",
              "\n",
              "  <style>\n",
              "    .colab-df-container {\n",
              "      display:flex;\n",
              "      gap: 12px;\n",
              "    }\n",
              "\n",
              "    .colab-df-convert {\n",
              "      background-color: #E8F0FE;\n",
              "      border: none;\n",
              "      border-radius: 50%;\n",
              "      cursor: pointer;\n",
              "      display: none;\n",
              "      fill: #1967D2;\n",
              "      height: 32px;\n",
              "      padding: 0 0 0 0;\n",
              "      width: 32px;\n",
              "    }\n",
              "\n",
              "    .colab-df-convert:hover {\n",
              "      background-color: #E2EBFA;\n",
              "      box-shadow: 0px 1px 2px rgba(60, 64, 67, 0.3), 0px 1px 3px 1px rgba(60, 64, 67, 0.15);\n",
              "      fill: #174EA6;\n",
              "    }\n",
              "\n",
              "    .colab-df-buttons div {\n",
              "      margin-bottom: 4px;\n",
              "    }\n",
              "\n",
              "    [theme=dark] .colab-df-convert {\n",
              "      background-color: #3B4455;\n",
              "      fill: #D2E3FC;\n",
              "    }\n",
              "\n",
              "    [theme=dark] .colab-df-convert:hover {\n",
              "      background-color: #434B5C;\n",
              "      box-shadow: 0px 1px 3px 1px rgba(0, 0, 0, 0.15);\n",
              "      filter: drop-shadow(0px 1px 2px rgba(0, 0, 0, 0.3));\n",
              "      fill: #FFFFFF;\n",
              "    }\n",
              "  </style>\n",
              "\n",
              "    <script>\n",
              "      const buttonEl =\n",
              "        document.querySelector('#df-aa85dda3-b1b6-46d2-b6f0-4466582bbd48 button.colab-df-convert');\n",
              "      buttonEl.style.display =\n",
              "        google.colab.kernel.accessAllowed ? 'block' : 'none';\n",
              "\n",
              "      async function convertToInteractive(key) {\n",
              "        const element = document.querySelector('#df-aa85dda3-b1b6-46d2-b6f0-4466582bbd48');\n",
              "        const dataTable =\n",
              "          await google.colab.kernel.invokeFunction('convertToInteractive',\n",
              "                                                    [key], {});\n",
              "        if (!dataTable) return;\n",
              "\n",
              "        const docLinkHtml = 'Like what you see? Visit the ' +\n",
              "          '<a target=\"_blank\" href=https://colab.research.google.com/notebooks/data_table.ipynb>data table notebook</a>'\n",
              "          + ' to learn more about interactive tables.';\n",
              "        element.innerHTML = '';\n",
              "        dataTable['output_type'] = 'display_data';\n",
              "        await google.colab.output.renderOutput(dataTable, element);\n",
              "        const docLink = document.createElement('div');\n",
              "        docLink.innerHTML = docLinkHtml;\n",
              "        element.appendChild(docLink);\n",
              "      }\n",
              "    </script>\n",
              "  </div>\n",
              "\n",
              "\n",
              "<div id=\"df-8de3d739-41f0-4693-9110-14e6ba1609dd\">\n",
              "  <button class=\"colab-df-quickchart\" onclick=\"quickchart('df-8de3d739-41f0-4693-9110-14e6ba1609dd')\"\n",
              "            title=\"Suggest charts\"\n",
              "            style=\"display:none;\">\n",
              "\n",
              "<svg xmlns=\"http://www.w3.org/2000/svg\" height=\"24px\"viewBox=\"0 0 24 24\"\n",
              "     width=\"24px\">\n",
              "    <g>\n",
              "        <path d=\"M19 3H5c-1.1 0-2 .9-2 2v14c0 1.1.9 2 2 2h14c1.1 0 2-.9 2-2V5c0-1.1-.9-2-2-2zM9 17H7v-7h2v7zm4 0h-2V7h2v10zm4 0h-2v-4h2v4z\"/>\n",
              "    </g>\n",
              "</svg>\n",
              "  </button>\n",
              "\n",
              "<style>\n",
              "  .colab-df-quickchart {\n",
              "      --bg-color: #E8F0FE;\n",
              "      --fill-color: #1967D2;\n",
              "      --hover-bg-color: #E2EBFA;\n",
              "      --hover-fill-color: #174EA6;\n",
              "      --disabled-fill-color: #AAA;\n",
              "      --disabled-bg-color: #DDD;\n",
              "  }\n",
              "\n",
              "  [theme=dark] .colab-df-quickchart {\n",
              "      --bg-color: #3B4455;\n",
              "      --fill-color: #D2E3FC;\n",
              "      --hover-bg-color: #434B5C;\n",
              "      --hover-fill-color: #FFFFFF;\n",
              "      --disabled-bg-color: #3B4455;\n",
              "      --disabled-fill-color: #666;\n",
              "  }\n",
              "\n",
              "  .colab-df-quickchart {\n",
              "    background-color: var(--bg-color);\n",
              "    border: none;\n",
              "    border-radius: 50%;\n",
              "    cursor: pointer;\n",
              "    display: none;\n",
              "    fill: var(--fill-color);\n",
              "    height: 32px;\n",
              "    padding: 0;\n",
              "    width: 32px;\n",
              "  }\n",
              "\n",
              "  .colab-df-quickchart:hover {\n",
              "    background-color: var(--hover-bg-color);\n",
              "    box-shadow: 0 1px 2px rgba(60, 64, 67, 0.3), 0 1px 3px 1px rgba(60, 64, 67, 0.15);\n",
              "    fill: var(--button-hover-fill-color);\n",
              "  }\n",
              "\n",
              "  .colab-df-quickchart-complete:disabled,\n",
              "  .colab-df-quickchart-complete:disabled:hover {\n",
              "    background-color: var(--disabled-bg-color);\n",
              "    fill: var(--disabled-fill-color);\n",
              "    box-shadow: none;\n",
              "  }\n",
              "\n",
              "  .colab-df-spinner {\n",
              "    border: 2px solid var(--fill-color);\n",
              "    border-color: transparent;\n",
              "    border-bottom-color: var(--fill-color);\n",
              "    animation:\n",
              "      spin 1s steps(1) infinite;\n",
              "  }\n",
              "\n",
              "  @keyframes spin {\n",
              "    0% {\n",
              "      border-color: transparent;\n",
              "      border-bottom-color: var(--fill-color);\n",
              "      border-left-color: var(--fill-color);\n",
              "    }\n",
              "    20% {\n",
              "      border-color: transparent;\n",
              "      border-left-color: var(--fill-color);\n",
              "      border-top-color: var(--fill-color);\n",
              "    }\n",
              "    30% {\n",
              "      border-color: transparent;\n",
              "      border-left-color: var(--fill-color);\n",
              "      border-top-color: var(--fill-color);\n",
              "      border-right-color: var(--fill-color);\n",
              "    }\n",
              "    40% {\n",
              "      border-color: transparent;\n",
              "      border-right-color: var(--fill-color);\n",
              "      border-top-color: var(--fill-color);\n",
              "    }\n",
              "    60% {\n",
              "      border-color: transparent;\n",
              "      border-right-color: var(--fill-color);\n",
              "    }\n",
              "    80% {\n",
              "      border-color: transparent;\n",
              "      border-right-color: var(--fill-color);\n",
              "      border-bottom-color: var(--fill-color);\n",
              "    }\n",
              "    90% {\n",
              "      border-color: transparent;\n",
              "      border-bottom-color: var(--fill-color);\n",
              "    }\n",
              "  }\n",
              "</style>\n",
              "\n",
              "  <script>\n",
              "    async function quickchart(key) {\n",
              "      const quickchartButtonEl =\n",
              "        document.querySelector('#' + key + ' button');\n",
              "      quickchartButtonEl.disabled = true;  // To prevent multiple clicks.\n",
              "      quickchartButtonEl.classList.add('colab-df-spinner');\n",
              "      try {\n",
              "        const charts = await google.colab.kernel.invokeFunction(\n",
              "            'suggestCharts', [key], {});\n",
              "      } catch (error) {\n",
              "        console.error('Error during call to suggestCharts:', error);\n",
              "      }\n",
              "      quickchartButtonEl.classList.remove('colab-df-spinner');\n",
              "      quickchartButtonEl.classList.add('colab-df-quickchart-complete');\n",
              "    }\n",
              "    (() => {\n",
              "      let quickchartButtonEl =\n",
              "        document.querySelector('#df-8de3d739-41f0-4693-9110-14e6ba1609dd button');\n",
              "      quickchartButtonEl.style.display =\n",
              "        google.colab.kernel.accessAllowed ? 'block' : 'none';\n",
              "    })();\n",
              "  </script>\n",
              "</div>\n",
              "\n",
              "    </div>\n",
              "  </div>\n"
            ],
            "application/vnd.google.colaboratory.intrinsic+json": {
              "type": "dataframe",
              "variable_name": "df",
              "summary": "{\n  \"name\": \"df\",\n  \"rows\": 344,\n  \"fields\": [\n    {\n      \"column\": \"species\",\n      \"properties\": {\n        \"dtype\": \"category\",\n        \"num_unique_values\": 3,\n        \"samples\": [\n          \"Adelie\",\n          \"Chinstrap\",\n          \"Gentoo\"\n        ],\n        \"semantic_type\": \"\",\n        \"description\": \"\"\n      }\n    },\n    {\n      \"column\": \"island\",\n      \"properties\": {\n        \"dtype\": \"category\",\n        \"num_unique_values\": 3,\n        \"samples\": [\n          \"Torgersen\",\n          \"Biscoe\",\n          \"Dream\"\n        ],\n        \"semantic_type\": \"\",\n        \"description\": \"\"\n      }\n    },\n    {\n      \"column\": \"culmen_length_mm\",\n      \"properties\": {\n        \"dtype\": \"number\",\n        \"std\": 5.459583713926532,\n        \"min\": 32.1,\n        \"max\": 59.6,\n        \"num_unique_values\": 164,\n        \"samples\": [\n          48.2,\n          49.8,\n          45.1\n        ],\n        \"semantic_type\": \"\",\n        \"description\": \"\"\n      }\n    },\n    {\n      \"column\": \"culmen_depth_mm\",\n      \"properties\": {\n        \"dtype\": \"number\",\n        \"std\": 1.9747931568167816,\n        \"min\": 13.1,\n        \"max\": 21.5,\n        \"num_unique_values\": 80,\n        \"samples\": [\n          16.9,\n          18.7,\n          18.6\n        ],\n        \"semantic_type\": \"\",\n        \"description\": \"\"\n      }\n    },\n    {\n      \"column\": \"flipper_length_mm\",\n      \"properties\": {\n        \"dtype\": \"number\",\n        \"std\": 14.061713679356894,\n        \"min\": 172.0,\n        \"max\": 231.0,\n        \"num_unique_values\": 55,\n        \"samples\": [\n          201.0,\n          180.0,\n          212.0\n        ],\n        \"semantic_type\": \"\",\n        \"description\": \"\"\n      }\n    },\n    {\n      \"column\": \"body_mass_g\",\n      \"properties\": {\n        \"dtype\": \"number\",\n        \"std\": 801.9545356980954,\n        \"min\": 2700.0,\n        \"max\": 6300.0,\n        \"num_unique_values\": 94,\n        \"samples\": [\n          4350.0,\n          4150.0,\n          3525.0\n        ],\n        \"semantic_type\": \"\",\n        \"description\": \"\"\n      }\n    },\n    {\n      \"column\": \"sex\",\n      \"properties\": {\n        \"dtype\": \"category\",\n        \"num_unique_values\": 3,\n        \"samples\": [\n          \"MALE\",\n          \"FEMALE\",\n          \".\"\n        ],\n        \"semantic_type\": \"\",\n        \"description\": \"\"\n      }\n    }\n  ]\n}"
            }
          },
          "metadata": {},
          "execution_count": 4
        }
      ]
    },
    {
      "cell_type": "code",
      "source": [
        "df.info()"
      ],
      "metadata": {
        "colab": {
          "base_uri": "https://localhost:8080/"
        },
        "id": "eaj2_5yODw7S",
        "outputId": "cadbd8ec-28d3-4117-d07e-fa97b97efff7"
      },
      "execution_count": 8,
      "outputs": [
        {
          "output_type": "stream",
          "name": "stdout",
          "text": [
            "<class 'pandas.core.frame.DataFrame'>\n",
            "RangeIndex: 344 entries, 0 to 343\n",
            "Data columns (total 7 columns):\n",
            " #   Column             Non-Null Count  Dtype  \n",
            "---  ------             --------------  -----  \n",
            " 0   species            344 non-null    object \n",
            " 1   island             344 non-null    object \n",
            " 2   culmen_length_mm   342 non-null    float64\n",
            " 3   culmen_depth_mm    342 non-null    float64\n",
            " 4   flipper_length_mm  342 non-null    float64\n",
            " 5   body_mass_g        342 non-null    float64\n",
            " 6   sex                334 non-null    object \n",
            "dtypes: float64(4), object(3)\n",
            "memory usage: 18.9+ KB\n"
          ]
        }
      ]
    },
    {
      "cell_type": "code",
      "source": [
        "df = df.dropna(axis=0)"
      ],
      "metadata": {
        "id": "Mld659KZDYpW"
      },
      "execution_count": 9,
      "outputs": []
    },
    {
      "cell_type": "markdown",
      "source": [
        "**SCATTERPLOT**"
      ],
      "metadata": {
        "id": "XyYm0tp-Eid4"
      }
    },
    {
      "cell_type": "code",
      "source": [
        "plt.scatter(df[\"culmen_length_mm\"],df[\"culmen_depth_mm\"],color=\"blue\")"
      ],
      "metadata": {
        "colab": {
          "base_uri": "https://localhost:8080/",
          "height": 448
        },
        "id": "50nakRIfAVIf",
        "outputId": "681324dc-67ff-4ed6-dd3a-eb8d07481229"
      },
      "execution_count": 17,
      "outputs": [
        {
          "output_type": "execute_result",
          "data": {
            "text/plain": [
              "<matplotlib.collections.PathCollection at 0x7ca64cf2e2d0>"
            ]
          },
          "metadata": {},
          "execution_count": 17
        },
        {
          "output_type": "display_data",
          "data": {
            "text/plain": [
              "<Figure size 640x480 with 1 Axes>"
            ],
            "image/png": "[encoded data removed]"
          },
          "metadata": {}
        }
      ]
    },
    {
      "cell_type": "code",
      "source": [
        "x = df[\"culmen_length_mm\"]\n",
        "y = df[\"culmen_depth_mm\"]\n",
        "x1 = sm.add_constant(x)\n",
        "model = sm.OLS(y,x1)\n",
        "model = model.fit()\n",
        "print(model.summary())"
      ],
      "metadata": {
        "colab": {
          "base_uri": "https://localhost:8080/"
        },
        "id": "YSMCl13JAVL8",
        "outputId": "bb6cf59b-feb1-4c3d-d41f-76e1be69cd1f"
      },
      "execution_count": 11,
      "outputs": [
        {
          "output_type": "stream",
          "name": "stdout",
          "text": [
            "                            OLS Regression Results                            \n",
            "==============================================================================\n",
            "Dep. Variable:        culmen_depth_mm   R-squared:                       0.052\n",
            "Model:                            OLS   Adj. R-squared:                  0.049\n",
            "Method:                 Least Squares   F-statistic:                     18.31\n",
            "Date:                Mon, 03 Mar 2025   Prob (F-statistic):           2.45e-05\n",
            "Time:                        12:50:57   Log-Likelihood:                -690.57\n",
            "No. Observations:                 334   AIC:                             1385.\n",
            "Df Residuals:                     332   BIC:                             1393.\n",
            "Df Model:                           1                                         \n",
            "Covariance Type:            nonrobust                                         \n",
            "====================================================================================\n",
            "                       coef    std err          t      P>|t|      [0.025      0.975]\n",
            "------------------------------------------------------------------------------------\n",
            "const               20.7856      0.854     24.351      0.000      19.106      22.465\n",
            "culmen_length_mm    -0.0824      0.019     -4.279      0.000      -0.120      -0.045\n",
            "==============================================================================\n",
            "Omnibus:                       15.464   Durbin-Watson:                   1.203\n",
            "Prob(Omnibus):                  0.000   Jarque-Bera (JB):                6.790\n",
            "Skew:                          -0.009   Prob(JB):                       0.0335\n",
            "Kurtosis:                       2.302   Cond. No.                         361.\n",
            "==============================================================================\n",
            "\n",
            "Notes:\n",
            "[1] Standard Errors assume that the covariance matrix of the errors is correctly specified.\n"
          ]
        }
      ]
    },
    {
      "cell_type": "markdown",
      "source": [
        "**STANDARDISED RESIDUAL** **PLOT**"
      ],
      "metadata": {
        "id": "SIG00AMmEHg-"
      }
    },
    {
      "cell_type": "code",
      "source": [
        "l =model.resid_pearson"
      ],
      "metadata": {
        "id": "epRt08QMAVPA"
      },
      "execution_count": 12,
      "outputs": []
    },
    {
      "cell_type": "code",
      "source": [
        "l"
      ],
      "metadata": {
        "colab": {
          "base_uri": "https://localhost:8080/"
        },
        "id": "0YKnHET8AVSH",
        "outputId": "7bfc7777-b86a-4faa-d432-16f328b66973"
      },
      "execution_count": 13,
      "outputs": [
        {
          "output_type": "execute_result",
          "data": {
            "text/plain": [
              "array([ 5.92200135e-01, -6.81759824e-02,  2.78898421e-01,  8.01846904e-01,\n",
              "        1.59106143e+00,  1.14534666e-01,  1.06557099e+00,  1.04776999e-01,\n",
              "        1.87371663e+00,  1.64981250e+00,  1.57585543e-02,  7.31380428e-01,\n",
              "        1.78060864e+00,  2.33994551e-01,  2.34787678e+00,  3.27891829e-01,\n",
              "        5.32075545e-01,  7.15370413e-01,  2.40831118e-01, -2.02477442e-01,\n",
              "        5.33243985e-01,  6.04499756e-01,  2.35368065e-01,  4.88545190e-01,\n",
              "        7.56563889e-01, -4.33013059e-01,  1.97884983e-01,  1.40302347e-01,\n",
              "        7.73742344e-01, -4.09787332e-01,  1.84736473e+00,  1.25687087e+00,\n",
              "        6.21093990e-01,  8.40498426e-01,  8.30740759e-01,  1.15703106e-01,\n",
              "        5.08849818e-01,  3.54827950e-01,  1.32812664e+00, -4.36139233e-01,\n",
              "        6.65792785e-01,  8.34451153e-01,  4.21104554e-02,  2.03261733e+00,\n",
              "        9.24773784e-02,  7.39385435e-01, -8.35680163e-04,  1.13370059e+00,\n",
              "        8.19304169e-02,  6.38856664e-01, -3.75294677e-02,  7.08738921e-01,\n",
              "       -6.13971048e-01,  7.36259261e-01, -4.91969209e-01,  1.93755161e+00,\n",
              "       -3.58251970e-01,  4.17494494e-01, -3.57667750e-01,  3.34728397e-01,\n",
              "       -8.65395513e-01,  8.86570736e-01, -6.39738730e-01,  1.07299178e+00,\n",
              "        5.08060523e-01,  4.61609069e-01, -1.68120534e-01,  9.84178408e-01,\n",
              "       -1.87840942e-01,  6.46861671e-01, -3.20768887e-01,  8.75439554e-01,\n",
              "       -8.87452801e-01,  9.29516871e-01, -3.82851211e-01,  1.82080043e-01,\n",
              "        5.41248992e-01,  7.85252670e-01,  4.58208491e-02,  1.52059495e+00,\n",
              "        8.88907615e-01,  4.45599054e-01,  8.18441138e-01,  6.35730490e-01,\n",
              "        8.13461971e-02,  3.65374911e-01, -4.60738475e-01,  3.00955708e-01,\n",
              "       -2.62017812e-01,  7.69447730e-01,  4.97134417e-01,  5.39496333e-01,\n",
              "       -1.02058582e+00,  6.64040126e-01, -8.35680163e-04,  1.35135236e+00,\n",
              "       -8.75153180e-01,  1.21392473e+00,  4.88545190e-01,  7.22206981e-01,\n",
              "       -2.11066669e-01,  1.23110318e+00, -3.36778902e-01,  9.24638038e-01,\n",
              "       -5.97376814e-01,  1.70526333e+00,  9.67719920e-02,  1.14228981e+00,\n",
              "        1.65606485e+00,  5.38327893e-01, -3.15305834e-01,  1.45304957e+00,\n",
              "       -4.39849627e-01,  6.25972823e-01, -3.14137394e-01,  1.10539095e+00,\n",
              "       -2.46592017e-01,  5.86737082e-01, -1.03463810e+00,  8.12978085e-01,\n",
              "        6.00088760e-03,  4.86792530e-01, -2.46007797e-01,  4.42093736e-01,\n",
              "        1.49475794e-01,  1.02458259e+00,  3.89184858e-01,  4.19247153e-01,\n",
              "       -2.40614073e-02,  5.26574169e-02, -1.83546329e-01,  1.36911504e+00,\n",
              "       -6.44617563e-01,  2.01011157e-01, -1.94472435e-01, -1.25174398e-01,\n",
              "       -1.37624945e+00, -2.25118949e-01, -4.75374975e-01,  5.87905521e-01,\n",
              "        5.44375166e-01,  3.28476049e-01, -1.00091270e-02,  2.23652664e-01,\n",
              "       -3.74846204e-01,  5.91031695e-01,  4.93044878e-01,  1.47726967e+00,\n",
              "        1.37674090e+00,  8.62760789e-01,  1.74958298e+00,  3.85095320e-01,\n",
              "        6.32225171e-01,  8.55545076e-01,  9.92767635e-01,  1.74157798e+00,\n",
              "        4.45219910e-01,  1.96723476e+00,  2.01800452e-01,  8.33487789e-01,\n",
              "        5.03205378e-02,  1.55086232e+00,  1.75075142e+00,  9.34805855e-01,\n",
              "        8.53587342e-01,  7.65358192e-01,  4.24822825e-03,  3.70458820e-01,\n",
              "       -3.26231940e-01,  1.45091777e+00,  5.01634105e-01,  1.30256403e+00,\n",
              "        9.25427333e-01,  1.19519869e+00,  4.36630682e-01,  1.85811676e+00,\n",
              "       -4.25008052e-01,  2.33519801e+00, -3.04174653e-01,  1.15537873e+00,\n",
              "        9.95309589e-01, -3.73243926e-02,  7.48763957e-01,  2.18859693e+00,\n",
              "       -1.67331239e-01,  1.83605948e+00,  1.43432354e+00,  2.71682708e-01,\n",
              "        1.30744286e+00, -1.89774989e-02,  6.82007875e-01,  9.90430756e-01,\n",
              "        6.47650966e-01,  1.48644312e+00,  1.12473222e+00,  3.22049631e-01,\n",
              "       -2.20035041e-01,  1.27679635e+00,  1.45970475e-01,  1.61157113e+00,\n",
              "        8.54284181e-03,  1.20691409e+00, -2.40339669e-01,  1.65568571e+00,\n",
              "        1.12102182e+00,  1.23618709e+00,  1.55886733e+00, -2.23745435e-01,\n",
              "       -1.03882717e-02,  1.88271600e+00,  4.68445637e-01,  7.82536646e-01,\n",
              "        1.25102867e+00,  1.06890224e+00, -1.97375395e+00, -1.90556966e-01,\n",
              "       -1.39301776e+00, -7.63872372e-01, -1.23178017e+00, -1.80021675e+00,\n",
              "       -1.27414209e+00, -8.53475037e-01, -1.98976396e+00, -7.97060841e-01,\n",
              "       -1.93647594e+00, -3.37742266e-01, -1.73892372e+00, -1.14530368e+00,\n",
              "       -1.25696364e+00, -5.33336755e-01, -1.99347436e+00, -7.98229281e-01,\n",
              "       -1.29190476e+00, -8.71821931e-01, -1.22435939e+00, -1.33914551e+00,\n",
              "       -1.27902092e+00, -6.10055579e-01, -2.16330117e+00, -9.83481883e-01,\n",
              "       -9.62593035e-01, -1.31025166e+00, -7.11752790e-01, -8.27707356e-01,\n",
              "       -1.59428037e+00, -1.33914551e+00,  5.86563012e-01, -1.01100222e+00,\n",
              "       -2.59270783e-01, -1.86346751e+00,  9.01404993e-02, -1.85546250e+00,\n",
              "       -5.59104437e-01, -1.85917290e+00, -3.64094167e-01, -1.74751295e+00,\n",
              "       -8.85289991e-01, -3.77562228e-01, -1.71628221e+00, -1.63468455e+00,\n",
              "       -3.77562228e-01, -1.97316973e+00, -6.57296328e-01, -1.43108506e+00,\n",
              "       -1.40160698e+00, -1.39126510e+00, -8.63816924e-01, -1.33114051e+00,\n",
              "       -8.74363885e-01, -1.70769298e+00, -1.06136915e+00, -1.42074317e+00,\n",
              "       -6.94574336e-01, -1.69539336e+00, -1.08342643e+00, -1.62609533e+00,\n",
              "       -3.18606078e-01, -1.46544197e+00,  6.14517191e-02, -2.64149616e-01,\n",
              "       -1.56421808e+00, -8.38049242e-01, -9.66887649e-01, -7.10000131e-01,\n",
              "       -6.32697087e-01, -1.12266218e+00, -1.02271763e+00, -4.07040303e-01,\n",
              "       -1.39243354e+00, -1.43316217e-01, -1.69968798e+00, -3.44578834e-01,\n",
              "       -1.16736097e+00, -4.48028704e-01, -1.18824982e+00, -3.99035296e-01,\n",
              "       -1.71257182e+00,  3.64995767e-01, -1.46427353e+00, -1.22923822e+00,\n",
              "       -1.49667270e+00,  2.64466996e-01, -9.75476876e-01,  3.20881192e-01,\n",
              "       -1.32196706e+00, -3.16269198e-01, -1.26067403e+00, -4.68917552e-01,\n",
              "       -4.76922559e-01, -1.20972289e+00, -1.24954285e+00, -3.90770520e-02,\n",
              "       -9.32530741e-01,  4.27662311e-01, -7.27762805e-01, -9.06763059e-01,\n",
              "       -4.32223764e-01, -1.38092321e+00, -3.05138017e-01, -1.67704647e+00,\n",
              "       -8.97589612e-01, -7.42399305e-01, -4.07624523e-01, -1.04302225e+00,\n",
              "       -1.26137763e-01, -1.50038309e+00, -1.27890422e-01, -7.39478206e-01,\n",
              "       -2.94211911e-01, -1.66591529e+00, -1.37037625e+00, -4.86096006e-01,\n",
              "       -1.17849215e+00, -2.99090744e-01])"
            ]
          },
          "metadata": {},
          "execution_count": 13
        }
      ]
    },
    {
      "cell_type": "code",
      "source": [
        "y_ = model.predict()\n",
        "y_"
      ],
      "metadata": {
        "colab": {
          "base_uri": "https://localhost:8080/"
        },
        "id": "WWxk3QqBAVVQ",
        "outputId": "fd83b943-26ca-4069-bb14-81c13b2eaac5"
      },
      "execution_count": 14,
      "outputs": [
        {
          "output_type": "execute_result",
          "data": {
            "text/plain": [
              "array([17.56376654, 17.53080685, 17.46488746, 17.7615247 , 17.54728669,\n",
              "       17.58024639, 17.55552662, 17.39896808, 17.60496616, 17.93456308,\n",
              "       17.76976462, 17.59672623, 17.28360915, 17.95104293, 16.99521184,\n",
              "       17.67088554, 17.67912546, 17.82744408, 17.63792585, 17.58848631,\n",
              "       17.87688362, 17.44016769, 17.44840762, 17.66264562, 17.44840762,\n",
              "       17.53080685, 17.72032508, 17.53080685, 17.41544792, 17.78624447,\n",
              "       17.55552662, 17.58848631, 17.30832892, 17.68736539, 17.50608708,\n",
              "       17.77800454, 17.42368785, 17.81920416, 17.15177038, 17.73680493,\n",
              "       17.52256692, 17.39896808, 17.81920416, 17.300089  , 17.52256692,\n",
              "       17.48136731, 17.90160339, 17.32480877, 17.94280301, 17.37424831,\n",
              "       17.57200646, 17.44016769, 17.77800454, 17.68736539, 17.84392393,\n",
              "       17.38248823, 17.68736539, 17.39896808, 17.78624447, 17.35776846,\n",
              "       17.86040377, 17.39896808, 17.82744408, 17.34128861, 18.02520224,\n",
              "       17.514327  , 17.52256692, 17.01169169, 17.86040377, 17.25888938,\n",
              "       17.41544792, 17.72032508, 17.80272431, 17.31656884, 17.93456308,\n",
              "       17.25064946, 17.7615247 , 17.89336347, 17.71208516, 17.38248823,\n",
              "       17.79448439, 17.74504485, 17.62968593, 17.58024639, 17.84392393,\n",
              "       17.39896808, 17.98400262, 17.52256692, 17.80272431, 17.42368785,\n",
              "       17.64616577, 17.46488746, 18.05816193, 17.22592969, 17.90160339,\n",
              "       17.407208  , 17.67912546, 17.67088554, 17.66264562, 17.514327  ,\n",
              "       17.60496616, 17.63792585, 17.64616577, 17.22592969, 17.64616577,\n",
              "       17.02817153, 17.514327  , 17.30832892, 17.52256692, 17.26712931,\n",
              "       17.60496616, 17.71208516, 17.84392393, 17.39896808, 17.80272431,\n",
              "       17.67912546, 17.47312738, 17.37424831, 17.88512354, 17.44016769,\n",
              "       17.58848631, 17.36600838, 17.57200646, 17.15177038, 17.61320608,\n",
              "       17.23416961, 17.75328477, 17.69560531, 17.64616577, 17.39896808,\n",
              "       17.85216385, 17.47312738, 17.73680493, 17.514327  , 17.47312738,\n",
              "       17.44016769, 18.14056116, 17.43192777, 17.71208516, 17.57200646,\n",
              "       17.55552662, 17.76976462, 17.81920416, 17.67088554, 17.81920416,\n",
              "       17.36600838, 16.95401222, 16.66561491, 16.55849591, 17.04465138,\n",
              "       16.44313699, 17.06113123, 16.98697192, 16.55849591, 16.99521184,\n",
              "       16.55849591, 16.9457723 , 16.52553622, 16.91281261, 16.50081645,\n",
              "       17.00345176, 16.6244153 , 16.64089514, 16.00642106, 16.96225215,\n",
              "       16.7315343 , 17.29184907, 16.78921376, 17.22592969, 16.61617537,\n",
              "       16.93753238, 16.50081645, 16.6244153 , 16.70681453, 16.96225215,\n",
              "       16.43489706, 17.41544792, 16.31953814, 17.28360915, 16.58321568,\n",
              "       16.69033468, 16.87161299, 16.86337307, 16.50081645, 16.92105253,\n",
              "       16.3772176 , 16.74801414, 16.97873199, 16.5914556 , 17.03641146,\n",
              "       16.5914556 , 16.59969553, 16.65737499, 16.74801414, 16.54201607,\n",
              "       16.68209476, 16.82217345, 16.55025599, 17.01993161, 16.60793545,\n",
              "       17.28360915, 16.4843366 , 17.06113123, 16.72329438, 16.64913507,\n",
              "       17.02817153, 16.50905637, 16.92929245, 17.01993161, 16.18769937,\n",
              "       17.20120992, 16.69857461, 16.59969553, 16.64913507, 16.98697192,\n",
              "       16.66561491, 16.77273391, 16.66561491, 16.86337307, 16.95401222,\n",
              "       17.04465138, 16.93753238, 17.21768977, 16.92929245, 17.41544792,\n",
              "       16.74801414, 17.03641146, 16.79745368, 17.01169169, 16.72329438,\n",
              "       17.32480877, 16.7315343 , 16.97873199, 16.77273391, 16.64913507,\n",
              "       17.06937115, 16.95401222, 16.97049207, 17.25064946, 16.98697192,\n",
              "       16.84689322, 16.81393353, 16.66561491, 16.88809284, 17.25888938,\n",
              "       17.06937115, 15.87458229, 16.73977422, 16.79745368, 17.27536923,\n",
              "       17.12705061, 17.1600103 , 16.77273391, 17.26712931, 16.69857461,\n",
              "       17.0528913 , 16.69857461, 16.6244153 , 17.19297   , 17.03641146,\n",
              "       16.6244153 , 17.085851  , 17.06113123, 16.9457723 , 16.78921376,\n",
              "       17.06937115, 16.65737499, 16.95401222, 17.07761107, 17.17649015,\n",
              "       17.03641146, 17.22592969, 16.63265522, 17.0528913 , 16.97873199,\n",
              "       17.01993161, 16.31129822, 17.01169169, 16.68209476, 16.70681453,\n",
              "       17.20120992, 16.60793545, 16.85513315, 16.96225215, 16.81393353,\n",
              "       16.95401222, 16.96225215, 16.78097384, 16.87161299, 16.57497576,\n",
              "       17.06113123, 17.06113123, 16.73977422, 16.45961683, 16.87985292,\n",
              "       16.66561491, 17.085851  , 16.59969553, 17.20944984, 16.55849591,\n",
              "       16.87161299, 16.49257653, 16.87161299, 16.4843366 , 17.03641146,\n",
              "       16.70681453, 17.11881069, 16.59969553, 16.71505445, 16.92105253,\n",
              "       16.79745368, 16.57497576, 16.78921376, 16.17945945, 16.89633276,\n",
              "       16.73977422, 16.92929245, 17.34952854, 16.38545752, 17.21768977,\n",
              "       16.82217345, 16.6244153 , 16.68209476, 17.20120992, 16.54201607,\n",
              "       16.97873199, 16.24537883, 17.11881069, 16.76449399, 16.89633276,\n",
              "       16.92929245, 16.63265522, 17.06113123, 16.67385484])"
            ]
          },
          "metadata": {},
          "execution_count": 14
        }
      ]
    },
    {
      "cell_type": "code",
      "source": [
        "plt.scatter(y_,l)"
      ],
      "metadata": {
        "colab": {
          "base_uri": "https://localhost:8080/",
          "height": 448
        },
        "id": "qPcDihNsAVYj",
        "outputId": "2273ea6c-7e25-4c33-ddea-64d7b6360831"
      },
      "execution_count": 15,
      "outputs": [
        {
          "output_type": "execute_result",
          "data": {
            "text/plain": [
              "<matplotlib.collections.PathCollection at 0x7ca64cf77c90>"
            ]
          },
          "metadata": {},
          "execution_count": 15
        },
        {
          "output_type": "display_data",
          "data": {
            "text/plain": [
              "<Figure size 640x480 with 1 Axes>"
            ],
            "image/png": "[encoded data removed]"
          },
          "metadata": {}
        }
      ]
    },
    {
      "cell_type": "markdown",
      "source": [
        "**SECOND ORDER MODEL**"
      ],
      "metadata": {
        "id": "8hFR7m_IFC-f"
      }
    },
    {
      "cell_type": "code",
      "source": [
        "x_sq = (x**2)\n",
        "x_sq"
      ],
      "metadata": {
        "colab": {
          "base_uri": "https://localhost:8080/",
          "height": 458
        },
        "id": "gDqrWosQAVfH",
        "outputId": "91e8e0d8-0d72-45c8-de59-b10bdc86bb38"
      },
      "execution_count": 18,
      "outputs": [
        {
          "output_type": "execute_result",
          "data": {
            "text/plain": [
              "0      1528.81\n",
              "1      1560.25\n",
              "2      1624.09\n",
              "4      1346.89\n",
              "5      1544.49\n",
              "        ...   \n",
              "338    2227.84\n",
              "340    2190.24\n",
              "341    2540.16\n",
              "342    2043.04\n",
              "343    2490.01\n",
              "Name: culmen_length_mm, Length: 334, dtype: float64"
            ],
            "text/html": [
              "<div>\n",
              "<style scoped>\n",
              "    .dataframe tbody tr th:only-of-type {\n",
              "        vertical-align: middle;\n",
              "    }\n",
              "\n",
              "    .dataframe tbody tr th {\n",
              "        vertical-align: top;\n",
              "    }\n",
              "\n",
              "    .dataframe thead th {\n",
              "        text-align: right;\n",
              "    }\n",
              "</style>\n",
              "<table border=\"1\" class=\"dataframe\">\n",
              "  <thead>\n",
              "    <tr style=\"text-align: right;\">\n",
              "      <th></th>\n",
              "      <th>culmen_length_mm</th>\n",
              "    </tr>\n",
              "  </thead>\n",
              "  <tbody>\n",
              "    <tr>\n",
              "      <th>0</th>\n",
              "      <td>1528.81</td>\n",
              "    </tr>\n",
              "    <tr>\n",
              "      <th>1</th>\n",
              "      <td>1560.25</td>\n",
              "    </tr>\n",
              "    <tr>\n",
              "      <th>2</th>\n",
              "      <td>1624.09</td>\n",
              "    </tr>\n",
              "    <tr>\n",
              "      <th>4</th>\n",
              "      <td>1346.89</td>\n",
              "    </tr>\n",
              "    <tr>\n",
              "      <th>5</th>\n",
              "      <td>1544.49</td>\n",
              "    </tr>\n",
              "    <tr>\n",
              "      <th>...</th>\n",
              "      <td>...</td>\n",
              "    </tr>\n",
              "    <tr>\n",
              "      <th>338</th>\n",
              "      <td>2227.84</td>\n",
              "    </tr>\n",
              "    <tr>\n",
              "      <th>340</th>\n",
              "      <td>2190.24</td>\n",
              "    </tr>\n",
              "    <tr>\n",
              "      <th>341</th>\n",
              "      <td>2540.16</td>\n",
              "    </tr>\n",
              "    <tr>\n",
              "      <th>342</th>\n",
              "      <td>2043.04</td>\n",
              "    </tr>\n",
              "    <tr>\n",
              "      <th>343</th>\n",
              "      <td>2490.01</td>\n",
              "    </tr>\n",
              "  </tbody>\n",
              "</table>\n",
              "<p>334 rows × 1 columns</p>\n",
              "</div><br><label><b>dtype:</b> float64</label>"
            ]
          },
          "metadata": {},
          "execution_count": 18
        }
      ]
    },
    {
      "cell_type": "code",
      "source": [
        "x2 = np.column_stack((x,x_sq))\n",
        "x2 = sm.add_constant(x2)\n",
        "model1 = sm.OLS(y,x2)\n",
        "model1 = model1.fit()\n",
        "print(model1.summary())"
      ],
      "metadata": {
        "colab": {
          "base_uri": "https://localhost:8080/"
        },
        "id": "klRhUDUaFKog",
        "outputId": "7da00434-b6f5-4b8d-cece-bbe527f6ea54"
      },
      "execution_count": 19,
      "outputs": [
        {
          "output_type": "stream",
          "name": "stdout",
          "text": [
            "                            OLS Regression Results                            \n",
            "==============================================================================\n",
            "Dep. Variable:        culmen_depth_mm   R-squared:                       0.110\n",
            "Model:                            OLS   Adj. R-squared:                  0.105\n",
            "Method:                 Least Squares   F-statistic:                     20.51\n",
            "Date:                Mon, 03 Mar 2025   Prob (F-statistic):           4.00e-09\n",
            "Time:                        12:59:31   Log-Likelihood:                -680.02\n",
            "No. Observations:                 334   AIC:                             1366.\n",
            "Df Residuals:                     331   BIC:                             1377.\n",
            "Df Model:                           2                                         \n",
            "Covariance Type:            nonrobust                                         \n",
            "==============================================================================\n",
            "                 coef    std err          t      P>|t|      [0.025      0.975]\n",
            "------------------------------------------------------------------------------\n",
            "const         49.6627      6.272      7.919      0.000      37.326      62.000\n",
            "x1            -1.4119      0.287     -4.923      0.000      -1.976      -0.848\n",
            "x2             0.0151      0.003      4.645      0.000       0.009       0.021\n",
            "==============================================================================\n",
            "Omnibus:                       27.128   Durbin-Watson:                   1.329\n",
            "Prob(Omnibus):                  0.000   Jarque-Bera (JB):                9.802\n",
            "Skew:                           0.102   Prob(JB):                      0.00744\n",
            "Kurtosis:                       2.186   Cond. No.                     1.25e+05\n",
            "==============================================================================\n",
            "\n",
            "Notes:\n",
            "[1] Standard Errors assume that the covariance matrix of the errors is correctly specified.\n",
            "[2] The condition number is large, 1.25e+05. This might indicate that there are\n",
            "strong multicollinearity or other numerical problems.\n"
          ]
        }
      ]
    },
    {
      "cell_type": "code",
      "source": [
        "e1 = model1.resid_pearson\n",
        "e1"
      ],
      "metadata": {
        "colab": {
          "base_uri": "https://localhost:8080/"
        },
        "id": "iJKTRWe4Fy_E",
        "outputId": "ba46707d-5b76-43f1-dc35-5ac535ce1191"
      },
      "execution_count": 20,
      "outputs": [
        {
          "output_type": "execute_result",
          "data": {
            "text/plain": [
              "array([ 6.47422719e-01, -1.93417346e-03,  4.10318924e-01,  6.22020490e-01,\n",
              "        1.69268608e+00,  1.38617028e-01,  1.14328007e+00,  2.75107529e-01,\n",
              "        1.92544386e+00,  1.20812132e+00, -2.00146569e-01,  7.57084643e-01,\n",
              "        2.05455985e+00, -2.82041455e-01,  2.63151070e+00,  2.55835315e-01,\n",
              "        4.55948514e-01,  4.31702811e-01,  2.05711047e-01, -1.96594384e-01,\n",
              "        1.61317564e-01,  7.63657484e-01,  3.77487266e-01,  4.31533840e-01,\n",
              "        9.14592393e-01, -3.77907762e-01,  5.76132010e-02,  2.12907877e-01,\n",
              "        9.54407721e-01, -6.63335002e-01,  1.94893776e+00,  1.30729997e+00,\n",
              "        8.51079393e-01,  7.63320873e-01,  9.46104789e-01, -1.09396776e-01,\n",
              "        6.76144123e-01,  7.33716455e-02,  1.60938015e+00, -6.18474902e-01,\n",
              "        7.61828285e-01,  1.02705471e+00, -2.48891431e-01,  2.30870816e+00,\n",
              "        1.71012645e-01,  8.72187223e-01, -4.32599595e-01,  1.37280908e+00,\n",
              "       -4.23102593e-01,  8.39403378e-01, -9.72803935e-03,  8.71078510e-01,\n",
              "       -8.61343954e-01,  6.55899847e-01, -8.39409424e-01,  2.17326449e+00,\n",
              "       -4.72020919e-01,  5.97370605e-01, -6.09624489e-01,  5.34458124e-01,\n",
              "       -1.25180092e+00,  1.08076522e+00, -9.64770519e-01,  1.30307566e+00,\n",
              "       -1.47695907e-01,  5.58639649e-01, -9.75399184e-02,  1.23196367e+00,\n",
              "       -5.53564250e-01,  8.93320956e-01, -1.73513046e-01,  7.55849866e-01,\n",
              "       -1.18088141e+00,  1.16573568e+00, -8.86588673e-01,  4.16400074e-01,\n",
              "        3.53467926e-01,  3.92157304e-01, -8.79801597e-02,  1.74358038e+00,\n",
              "        6.62432853e-01,  2.78580042e-01,  8.10446213e-01,  6.75722155e-01,\n",
              "       -2.48593784e-01,  5.43660092e-01, -1.06217837e+00,  3.85854696e-01,\n",
              "       -5.36355255e-01,  9.44696686e-01,  4.60182218e-01,  6.78871487e-01,\n",
              "       -1.79302817e+00,  9.18244695e-01, -4.32599595e-01,  1.55477253e+00,\n",
              "       -9.94235329e-01,  1.16891403e+00,  4.31533840e-01,  8.27192213e-01,\n",
              "       -2.22976652e-01,  1.22621079e+00, -3.99185985e-01,  1.18679726e+00,\n",
              "       -6.67738548e-01,  1.98018969e+00,  1.82666060e-01,  1.38818452e+00,\n",
              "        1.78232803e+00,  7.79264332e-01, -3.30397677e-01,  1.36220368e+00,\n",
              "       -7.85698911e-01,  8.12212656e-01, -5.90065768e-01,  1.04676415e+00,\n",
              "       -1.37468428e-01,  7.85692865e-01, -1.46877330e+00,  9.78499535e-01,\n",
              "        1.82476663e-02,  6.87011684e-01, -2.24570090e-01,  6.96301439e-01,\n",
              "        1.39563006e-01,  1.28823015e+00,  2.08683891e-01,  3.18584189e-01,\n",
              "       -7.69229086e-02,  2.21397016e-01, -5.35274366e-01,  1.52755747e+00,\n",
              "       -8.33316952e-01,  2.90087086e-01, -8.37579152e-02,  1.17103064e-02,\n",
              "       -2.34594028e+00, -8.56759545e-02, -6.25085287e-01,  6.34798113e-01,\n",
              "        6.06174947e-01,  1.22116508e-01, -3.02601943e-01,  1.48414289e-01,\n",
              "       -6.78575532e-01,  7.94432709e-01,  7.02783837e-01,  1.48280767e+00,\n",
              "        1.24170346e+00,  1.11645288e+00,  1.44724961e+00,  6.28042185e-01,\n",
              "        8.60357827e-01,  7.04598328e-01,  1.23503737e+00,  1.61767704e+00,\n",
              "        6.49558049e-01,  1.80240871e+00,  3.81325732e-01,  5.96495050e-01,\n",
              "        2.66792223e-01,  1.50899676e+00,  1.73533297e+00, -3.56209015e-01,\n",
              "        1.07811084e+00,  8.20188288e-01,  2.21281222e-01,  4.66881908e-01,\n",
              "       -1.02255046e-01,  1.39558586e+00,  7.03591421e-01,  1.07988966e+00,\n",
              "        8.64470609e-01,  1.23772990e+00,  6.48426735e-01,  1.54511973e+00,\n",
              "       -2.80934072e-01,  1.82409524e+00, -9.38606614e-02,  1.04774461e+00,\n",
              "        1.01398352e+00,  1.09531513e-01,  9.14055277e-01,  1.99296838e+00,\n",
              "        5.51487940e-03,  1.42002061e+00,  1.52571062e+00,  4.85516423e-01,\n",
              "        1.21551349e+00,  2.05639400e-01,  5.70987338e-01,  8.99725889e-01,\n",
              "        6.18258911e-01,  1.57942114e+00,  9.58419427e-01,  3.11051900e-01,\n",
              "       -1.14542073e-01,  1.12699763e+00,  3.70815823e-01,  1.55056565e+00,\n",
              "        2.28402415e-01,  9.55471063e-01, -1.64839675e-02,  1.72938137e+00,\n",
              "        1.09631111e+00,  1.49679508e+00,  1.35669822e+00, -4.81947624e-02,\n",
              "        2.09684285e-01,  1.07590411e+00,  7.20395866e-01,  8.03674566e-01,\n",
              "        1.16827845e+00,  1.04260059e+00, -1.82516781e+00, -2.35928739e-01,\n",
              "       -1.36494254e+00, -8.26744379e-01, -1.12694421e+00, -1.66047872e+00,\n",
              "       -1.08567815e+00, -6.92881909e-01, -1.81516518e+00, -6.39010402e-01,\n",
              "       -1.83853894e+00, -3.00446808e-01, -1.56680752e+00, -1.08813225e+00,\n",
              "       -1.07758837e+00, -5.26460162e-01, -1.84982168e+00, -7.91127093e-01,\n",
              "       -1.12579896e+00, -8.27837417e-01, -1.32066197e+00, -1.14715557e+00,\n",
              "       -1.12337359e+00, -4.26591973e-01, -2.00057300e+00, -8.04668066e-01,\n",
              "       -8.61145091e-01, -1.24456796e+00, -7.73033866e-01, -6.94343920e-01,\n",
              "       -1.41623109e+00, -1.14715557e+00, -1.09539310e+00, -1.00224538e+00,\n",
              "       -1.75053532e-01, -1.69821671e+00,  3.32950714e-01, -1.67149247e+00,\n",
              "       -5.05574341e-01, -1.69141925e+00, -3.77956713e-01, -1.57149987e+00,\n",
              "       -9.15061840e-01, -4.78292209e-01, -1.53010499e+00, -1.45938649e+00,\n",
              "       -4.78292209e-01, -1.79766899e+00, -4.46168069e-01, -1.28402041e+00,\n",
              "       -1.35927552e+00, -1.20086608e+00, -9.39345958e-01, -1.17708411e+00,\n",
              "       -6.66673656e-01, -1.51990923e+00, -8.68570854e-01, -1.23017581e+00,\n",
              "       -7.94727271e-01, -1.51778935e+00, -9.10956907e-01, -1.45534161e+00,\n",
              "       -9.27119796e-01, -1.29243043e+00,  4.24993366e-02, -2.66164460e-01,\n",
              "       -1.37431413e+00, -9.73828446e-01, -8.59687434e-01, -5.33204544e-01,\n",
              "       -5.46331292e-01, -9.62242056e-01, -8.55467620e-01, -3.41528360e-01,\n",
              "       -1.28694182e+00, -3.01817409e-01, -1.52037832e+00, -1.23904993e-01,\n",
              "       -1.16337691e+00, -7.89975695e-01, -1.07112771e+00, -4.50770790e-01,\n",
              "       -1.52911643e+00,  2.55199736e-01, -1.27239565e+00, -1.44382218e+00,\n",
              "       -1.39436284e+00, -2.73844505e-03, -8.57257716e-01,  4.23923472e-02,\n",
              "       -1.13712342e+00, -3.19874972e-01, -1.05963872e+00, -6.04168467e-01,\n",
              "       -4.76797147e-01, -1.06869537e+00, -1.19555327e+00, -1.94396384e-01,\n",
              "       -8.75880910e-01, -4.42558979e-01, -5.86274563e-01, -8.94824350e-01,\n",
              "       -2.63036813e-01, -1.22957268e+00, -7.71426440e-01, -1.49290210e+00,\n",
              "       -8.12778738e-01, -8.54265798e-01, -4.40895278e-01, -8.37209002e-01,\n",
              "       -3.30632878e-01, -1.34064101e+00, -8.67646499e-01, -5.22533598e-01,\n",
              "       -2.40098085e-01, -1.55306379e+00, -1.22982604e+00, -5.79885220e-01,\n",
              "       -9.83273196e-01, -3.38331076e-01])"
            ]
          },
          "metadata": {},
          "execution_count": 20
        }
      ]
    },
    {
      "cell_type": "code",
      "source": [
        "y_1 = model1.predict(x2)"
      ],
      "metadata": {
        "id": "EXXgKMMTF6wn"
      },
      "execution_count": 21,
      "outputs": []
    },
    {
      "cell_type": "code",
      "source": [
        "plt.scatter(y_1,e1)"
      ],
      "metadata": {
        "colab": {
          "base_uri": "https://localhost:8080/",
          "height": 448
        },
        "id": "mbw1LX5oGGFt",
        "outputId": "95ef029c-7b29-4b30-d3d6-dfbc67584dca"
      },
      "execution_count": 22,
      "outputs": [
        {
          "output_type": "execute_result",
          "data": {
            "text/plain": [
              "<matplotlib.collections.PathCollection at 0x7ca64f37fd50>"
            ]
          },
          "metadata": {},
          "execution_count": 22
        },
        {
          "output_type": "display_data",
          "data": {
            "text/plain": [
              "<Figure size 640x480 with 1 Axes>"
            ],
            "image/png": "[encoded data removed]"
          },
          "metadata": {}
        }
      ]
    }
  ]
}