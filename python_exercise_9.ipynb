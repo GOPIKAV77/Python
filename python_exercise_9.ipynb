{
  "cells": [
    {
      "cell_type": "markdown",
      "metadata": {
        "id": "view-in-github",
        "colab_type": "text"
      },
      "source": [
        "<a href=\"https://colab.research.google.com/github/GOPIKAV77/Python/blob/main/python_exercise_9.ipynb\" target=\"_parent\"><img src=\"https://colab.research.google.com/assets/colab-badge.svg\" alt=\"Open In Colab\"/></a>"
      ]
    },
    {
      "cell_type": "markdown",
      "source": [
        "Asks the user whether he wants to join a particular class. If he wants to join then asks his/her details"
      ],
      "metadata": {
        "id": "IAjxoho9_MoB"
      }
    },
    {
      "cell_type": "code",
      "source": [
        "def join_class():\n",
        "  response = input(\"Do you want to join this class (yes/no):\").strip()\n",
        "  if response == \"yes\":\n",
        "    name = input(\"Enter your name: \").strip()\n",
        "    gender = input(\"Enter your gender: \").strip()\n",
        "    phoneNumber = input(\"Enter your phone number: \").strip()\n",
        "\n",
        "    print(\"Please check whether your details are correct \")\n",
        "    print(\"-------------------------------------------------------\")\n",
        "    print(\"|  name   |       gender     |     phone number        |\")\n",
        "    print(\"--------------------------------------------------------\")\n",
        "    print(f\"{name:<10}|    {gender:<14} |   {phoneNumber:<14}\")\n",
        "    print(\"--------------------------------------------------------\")\n",
        "  else:\n",
        "      print(\"Have a nice day\")\n",
        "\n",
        "join_class()"
      ],
      "metadata": {
        "colab": {
          "base_uri": "https://localhost:8080/"
        },
        "id": "4tKEQY8f7YfS",
        "outputId": "ecfbc320-85e4-495b-9b28-b52ca6058dc7"
      },
      "execution_count": 7,
      "outputs": [
        {
          "output_type": "stream",
          "name": "stdout",
          "text": [
            "Do you want to join this class (yes/no):yes\n",
            "Enter your name: Gopika\n",
            "Enter your gender: Female\n",
            "Enter your phone number: 89000\n",
            "Please check whether your details are correct \n",
            "-------------------------------------------------------\n",
            "|  name   |       gender     |     phone number        |\n",
            "--------------------------------------------------------\n",
            "Gopika    |    Female         |   89000         \n",
            "--------------------------------------------------------\n"
          ]
        }
      ]
    }
  ],
  "metadata": {
    "colab": {
      "provenance": [],
      "authorship_tag": "ABX9TyM7H2LnYr2Bf6WMHRuYMbfS",
      "include_colab_link": true
    },
    "kernelspec": {
      "display_name": "Python 3",
      "name": "python3"
    },
    "language_info": {
      "name": "python"
    }
  },
  "nbformat": 4,
  "nbformat_minor": 0
}