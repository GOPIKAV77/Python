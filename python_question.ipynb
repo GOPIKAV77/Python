{
  "cells": [
    {
      "cell_type": "markdown",
      "metadata": {
        "id": "view-in-github",
        "colab_type": "text"
      },
      "source": [
        "<a href=\"https://colab.research.google.com/github/GOPIKAV77/Python/blob/main/python_question.ipynb\" target=\"_parent\"><img src=\"https://colab.research.google.com/assets/colab-badge.svg\" alt=\"Open In Colab\"/></a>"
      ]
    },
    {
      "cell_type": "code",
      "source": [
        "#finding factors of a number\n",
        "n = int(input(\"Enter a number: \"))\n",
        "\n",
        "def factors():\n",
        "  for a in range(1,100):\n",
        "    if n % a == 0:\n",
        "      print(a)\n",
        "\n",
        "k = factors()\n",
        "\n"
      ],
      "metadata": {
        "id": "cT7fIUkpiQyV",
        "colab": {
          "base_uri": "https://localhost:8080/"
        },
        "outputId": "9b7a2adc-5656-4542-bf66-bb055c09bf58"
      },
      "execution_count": 20,
      "outputs": [
        {
          "output_type": "stream",
          "name": "stdout",
          "text": [
            "Enter a number: 890\n",
            "1\n",
            "2\n",
            "5\n",
            "10\n",
            "89\n"
          ]
        }
      ]
    },
    {
      "cell_type": "code",
      "source": [
        "#finding factors of a number\n",
        "n = int(input(\"Enter a number: \"))\n",
        "\n",
        "def factors():\n",
        "  for a in range(1,100):\n",
        "    if n % a == 0:\n",
        "      print(a)\n",
        "\n",
        "k = factors()\n",
        "\n",
        ""
      ],
      "metadata": {
        "colab": {
          "base_uri": "https://localhost:8080/"
        },
        "id": "rNNmbWpFjfMt",
        "outputId": "7e698b79-4d64-4dc2-def7-0aa1438f721a"
      },
      "execution_count": 21,
      "outputs": [
        {
          "output_type": "stream",
          "name": "stdout",
          "text": [
            "Enter a number: 9080\n",
            "1\n",
            "2\n",
            "4\n",
            "5\n",
            "8\n",
            "10\n",
            "20\n",
            "40\n"
          ]
        }
      ]
    }
  ],
  "metadata": {
    "colab": {
      "provenance": [],
      "authorship_tag": "ABX9TyP7lZHKeAMKX+MwOFAZl9XU",
      "include_colab_link": true
    },
    "kernelspec": {
      "display_name": "Python 3",
      "name": "python3"
    },
    "language_info": {
      "name": "python"
    }
  },
  "nbformat": 4,
  "nbformat_minor": 0
}