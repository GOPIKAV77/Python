{
  "cells": [
    {
      "cell_type": "markdown",
      "metadata": {
        "id": "view-in-github",
        "colab_type": "text"
      },
      "source": [
        "<a href=\"https://colab.research.google.com/github/GOPIKAV77/Python/blob/main/python_exercise_8.ipynb\" target=\"_parent\"><img src=\"https://colab.research.google.com/assets/colab-badge.svg\" alt=\"Open In Colab\"/></a>"
      ]
    },
    {
      "cell_type": "markdown",
      "source": [
        "Ask the user whether he wants to deposit or withdraw money. The user has 1500 in his account."
      ],
      "metadata": {
        "id": "-sk0HbT7xI9k"
      }
    },
    {
      "cell_type": "code",
      "source": [
        "class BankAccount:\n",
        "  def __init__(self, balance = 1500):\n",
        "    self.balance = balance\n",
        "\n",
        "  def deposit(self, amount):\n",
        "    self.balance += amount\n",
        "    print(f\"{amount} deposited. Current balance: {self.balance}\")\n",
        "\n",
        "  def withdraw(self, amount):\n",
        "    if amount > self.balance:\n",
        "      print(f\"Insufficent balance. Minimum 500 should be in the account\")\n",
        "\n",
        "    else:\n",
        "      self.balance -= amount\n",
        "      print(f\"{amount} is withdrawn from your account. remaining balance is {self.balance}\")\n",
        "\n",
        "account = BankAccount()\n",
        "def transaction():\n",
        "    enter = input(\"deposit or withdraw : \")\n",
        "    if enter == \"deposit\":\n",
        "        amount_deposited = int(input(\"Enter the amount you want to deposit:\"))\n",
        "        account.deposit(amount_deposited)\n",
        "    if enter == \"withdraw\":\n",
        "        amount_withdrawn = int(input(\"Enter the amount you want to withdraw:\"))\n",
        "        account.withdraw(amount_withdrawn)\n",
        "\n",
        "transaction()"
      ],
      "metadata": {
        "colab": {
          "base_uri": "https://localhost:8080/"
        },
        "id": "QSF6Rm-uxJF8",
        "outputId": "a676e5df-99f7-4a6a-dbc8-0b88da70737f"
      },
      "execution_count": 13,
      "outputs": [
        {
          "output_type": "stream",
          "name": "stdout",
          "text": [
            "deposit or withdraw : withdraw\n",
            "Enter the amount you want to withdraw:100\n",
            "100 is withdrawn from your account. remaining balance is 1400\n"
          ]
        }
      ]
    },
    {
      "cell_type": "code",
      "source": [
        "class BankAccount:\n",
        "  def __init__(self, balance = 1500):\n",
        "    self.balance = balance\n",
        "\n",
        "  def deposit(self, amount):\n",
        "    self.balance += amount\n",
        "    print(f\"{amount} deposited. Current balance: {self.balance}\")\n",
        "\n",
        "  def withdraw(self, amount):\n",
        "    if amount > self.balance:\n",
        "      print(f\"Insufficent balance. Minimum 500 should be in the account\")\n",
        "\n",
        "    else:\n",
        "      self.balance -= amount\n",
        "      print(f\"{amount} is withdrawn from your account. remaining balance is {self.balance}\")\n",
        "\n",
        "account = BankAccount()\n",
        "def transaction():\n",
        "    enter = input(\"deposit or withdraw : \")\n",
        "    if enter == \"deposit\":\n",
        "        amount_deposited = int(input(\"Enter the amount you want to deposit:\"))\n",
        "        account.deposit(amount_deposited)\n",
        "    if enter == \"withdraw\":\n",
        "        amount_withdrawn = int(input(\"Enter the amount you want to withdraw:\"))\n",
        "        account.withdraw(amount_withdrawn)\n",
        "\n",
        "transaction()"
      ],
      "metadata": {
        "colab": {
          "base_uri": "https://localhost:8080/"
        },
        "id": "3hPXHvxL2uid",
        "outputId": "ad540ee0-5e63-4a94-b273-dfc689038c01"
      },
      "execution_count": 14,
      "outputs": [
        {
          "output_type": "stream",
          "name": "stdout",
          "text": [
            "deposit or withdraw : deposit\n",
            "Enter the amount you want to deposit:250\n",
            "250 deposited. Current balance: 1750\n"
          ]
        }
      ]
    }
  ],
  "metadata": {
    "colab": {
      "provenance": [],
      "authorship_tag": "ABX9TyPVERo8LzZ60ZN8/Y37tniB",
      "include_colab_link": true
    },
    "kernelspec": {
      "display_name": "Python 3",
      "name": "python3"
    },
    "language_info": {
      "name": "python"
    }
  },
  "nbformat": 4,
  "nbformat_minor": 0
}