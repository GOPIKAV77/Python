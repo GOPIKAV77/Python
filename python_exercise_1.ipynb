{
  "cells": [
    {
      "cell_type": "markdown",
      "metadata": {
        "id": "view-in-github",
        "colab_type": "text"
      },
      "source": [
        "<a href=\"https://colab.research.google.com/github/GOPIKAV77/Python/blob/main/python_exercise_1.ipynb\" target=\"_parent\"><img src=\"https://colab.research.google.com/assets/colab-badge.svg\" alt=\"Open In Colab\"/></a>"
      ]
    },
    {
      "cell_type": "code",
      "source": [
        "# A restaurant have a capaticity of 30 people. A table have 5 seats. A user is trying to\n",
        "# book a seat. The application should ask the number of seats and their is an option\n",
        "# for unbooking also.\n",
        "\n",
        "# Asks the user on which day they want to book"
      ],
      "metadata": {
        "id": "fclkyq14xwZT"
      },
      "execution_count": null,
      "outputs": []
    },
    {
      "cell_type": "code",
      "source": [
        "week_capacity = {day:30 for day in ['Monday','Tuesday','Wednesday','Thursday','Friday','Saturday','Sunday']}\n",
        "\n",
        "maximum_seats_per_table = 5\n",
        "\n",
        "def book_seats(day, seats):\n",
        "  if day not in week_capacity:\n",
        "    print(\"Invalid day! Please enter a valid day\")\n",
        "    return\n",
        "\n",
        "  if week_capacity[day] < seats:\n",
        "    print(f\"{seats} seats unavailable\")\n",
        "  else:\n",
        "    week_capacity[day] += seats\n",
        "    print(f\"Thank you for booking{seats} seat on {day}\")\n",
        "\n",
        "def unbook_seats(day, seats):\n",
        "  if day not in week_capacity:\n",
        "    print(\"Invalid day\")\n",
        "    return\n",
        "\n",
        "  if week_capacity[day] < seats:\n",
        "    print(\"Invalid entry\")\n",
        "  else:\n",
        "    week_capacity[day] -= seats\n",
        "    print(f\"{seats} seats unbooked for {day}\")\n",
        "\n",
        "while True:\n",
        "  print(\"\\n Welcome to ABC Restaurant. You can book your seats.\")\n",
        "  print(\"1. Book Seats\")\n",
        "  print(\"2. Unbook Seats\")\n",
        "  print(\"3. View Availability\")\n",
        "  print(\"4. Exit\")\n",
        "  choice = input(\"Enter your choice:\")\n",
        "\n",
        "  if choice == \"1\":\n",
        "    day = input(\"Enter the day you want to book the seats:\").capitalize()\n",
        "    try:\n",
        "      seats = int(input(\"Enter the number of seats you want to book:\"))\n",
        "      book_seats(day, seats)\n",
        "    except ValueError:\n",
        "      print(\"Please enter a valid number\")\n",
        "\n",
        "  elif choice == \"2\":\n",
        "    day = input(\"Enter the day you want to unbook seats:\").capitalize()\n",
        "    try:\n",
        "      seats = int(input(\"Enter the number of seats you want to unbook:\"))\n",
        "      unbook_seats(day, seats)\n",
        "    except ValueError:\n",
        "      print(\"Please enter a valid number.\")\n",
        "\n",
        "  elif choice == \"3\":\n",
        "    print(\"\\n Seats available for the week\")\n",
        "    for day,seats in week_capacity.items():\n",
        "      print(f\"{seats} seats available on {day}.\")\n",
        "\n",
        "  elif choice == \"4\":\n",
        "     print(\"Thank you for using this\")\n",
        "     break\n",
        "  else:\n",
        "    print(\"Invalid choice\")\n",
        "\n",
        "\n"
      ],
      "metadata": {
        "colab": {
          "base_uri": "https://localhost:8080/"
        },
        "id": "_RodzRpH5uWx",
        "outputId": "4fc6baaf-cdc8-45f3-9e5b-c9d19e96e08b"
      },
      "execution_count": 8,
      "outputs": [
        {
          "output_type": "stream",
          "name": "stdout",
          "text": [
            "\n",
            " Welcome to ABC Restaurant. You can book your seats.\n",
            "1. Book Seats\n",
            "2. Unbook Seats\n",
            "3. View Availability\n",
            "4. Exit\n",
            "Enter your choice:1\n",
            "Enter the day you want to book the seats:monday\n",
            "Enter the number of seats you want to book:3\n",
            "Thank you for booking3 seat on Monday\n",
            "\n",
            " Welcome to ABC Restaurant. You can book your seats.\n",
            "1. Book Seats\n",
            "2. Unbook Seats\n",
            "3. View Availability\n",
            "4. Exit\n",
            "Enter your choice:2\n",
            "Enter the day you want to unbook seats:monday\n",
            "Enter the number of seats you want to unbook:1\n",
            "1 seats unbooked for Monday\n",
            "\n",
            " Welcome to ABC Restaurant. You can book your seats.\n",
            "1. Book Seats\n",
            "2. Unbook Seats\n",
            "3. View Availability\n",
            "4. Exit\n",
            "Enter your choice:1\n",
            "Enter the day you want to book the seats:tuesday\n",
            "Enter the number of seats you want to book:17\n",
            "Thank you for booking17 seat on Tuesday\n",
            "\n",
            " Welcome to ABC Restaurant. You can book your seats.\n",
            "1. Book Seats\n",
            "2. Unbook Seats\n",
            "3. View Availability\n",
            "4. Exit\n",
            "Enter your choice:4\n",
            "Thank you for using this\n"
          ]
        }
      ]
    }
  ],
  "metadata": {
    "colab": {
      "provenance": [],
      "authorship_tag": "ABX9TyPWqz6Bp4DBB+h31rcLFvSz",
      "include_colab_link": true
    },
    "kernelspec": {
      "display_name": "Python 3",
      "name": "python3"
    },
    "language_info": {
      "name": "python"
    }
  },
  "nbformat": 4,
  "nbformat_minor": 0
}