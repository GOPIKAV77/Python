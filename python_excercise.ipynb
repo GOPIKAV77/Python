{
  "cells": [
    {
      "cell_type": "markdown",
      "metadata": {
        "id": "view-in-github",
        "colab_type": "text"
      },
      "source": [
        "<a href=\"https://colab.research.google.com/github/GOPIKAV77/Python/blob/main/python_excercise.ipynb\" target=\"_parent\"><img src=\"https://colab.research.google.com/assets/colab-badge.svg\" alt=\"Open In Colab\"/></a>"
      ]
    },
    {
      "cell_type": "code",
      "source": [
        "# A restaurant have a capaticity of 30 people. A table have 5 seats. A user is trying to\n",
        "# book a seat. The application should ask the number of seats and their is an option\n",
        "# for unbooking also."
      ],
      "metadata": {
        "id": "fclkyq14xwZT"
      },
      "execution_count": null,
      "outputs": []
    },
    {
      "cell_type": "code",
      "source": [
        "Maximum_capacity = 30\n",
        "maxium_seats_per_table = 5\n",
        "seats_booked = 0\n",
        "\n",
        "\n",
        "#Book seats\n",
        "def book_seats(seats):\n",
        "   global seats_booked\n",
        "   if seats_booked + seats > Maximum_capacity:\n",
        "        print(\"Sorry, seats are not available. You can book tommorrow\")\n",
        "   elif seats > Maximum_capacity:\n",
        "        print(f\"Maximum capacity is {Maximum_capacity}\")\n",
        "   else:\n",
        "       seats_booked += seats\n",
        "       print(f\"{seats} seat(s) are suceessfully booked. Total seats booked are {seats_booked}\")\n",
        "       print(f\"Wish you happy time\")\n",
        "\n",
        "#unbook seats\n",
        "def unbook_seats(seats):\n",
        "  global seats_booked\n",
        "  if seats > seats_booked:\n",
        "     print(f\"cannot unbook {seats}seat(s). Try again\")\n",
        "  else:\n",
        "    seats_booked -= seats\n",
        "    print(f\"Unbooked {seats}seat(s). You will receive your payement within 5 hours.\")\n",
        "\n",
        "\n",
        "while True:\n",
        "    print(\"\\n Welcome to ABC Restaurant. You can book your table.\")\n",
        "    print(\"Enter 1 to book seats\")\n",
        "    print(\"Enter 2 to unbook seats\")\n",
        "    print(\"Enter 3 to exit\")\n",
        "\n",
        "    choice = input(\"Enter your choice:\")\n",
        "\n",
        "    if choice == \"1\":\n",
        "      try:\n",
        "        seats = int(input(\"Enter the number of seats you want to book :\"))\n",
        "        book_seats(seats)\n",
        "      except ValueError:\n",
        "        print(\"Enter a valid number\")\n",
        "    elif choice == \"2\":\n",
        "      try:\n",
        "        seats = int(input(\"Enter the number of seats you want to unbook :\"))\n",
        "        unbook_seats(seats)\n",
        "      except ValueError:\n",
        "        print(\"Enter a valid number\")\n",
        "    elif choice == \"3\":\n",
        "      print(\"Thank you\")\n",
        "      break\n",
        "    else:\n",
        "      print(\"Invalid choice.\")\n"
      ],
      "metadata": {
        "colab": {
          "base_uri": "https://localhost:8080/"
        },
        "id": "_mLUiuVHxwTZ",
        "outputId": "f686aceb-ade8-49c4-f9c6-f1001eab002c"
      },
      "execution_count": 3,
      "outputs": [
        {
          "output_type": "stream",
          "name": "stdout",
          "text": [
            "\n",
            " Welcome to ABC Restaurant. You can book your table.\n",
            "Enter 1 to book seats\n",
            "Enter 2 to unbook seats\n",
            "Enter 3 to exit\n",
            "Enter your choice:1\n",
            "Enter the number of seats you want to book :4\n",
            "4 seat(s) are suceessfully booked. Total seats booked are 4\n",
            "Wish you happy time\n",
            "\n",
            " Welcome to ABC Restaurant. You can book your table.\n",
            "Enter 1 to book seats\n",
            "Enter 2 to unbook seats\n",
            "Enter 3 to exit\n",
            "Enter your choice:2\n",
            "Enter the number of seats you want to unbook :2\n",
            "Unbooked 2seat(s). You will receive your payement within 5 hours.\n",
            "\n",
            " Welcome to ABC Restaurant. You can book your table.\n",
            "Enter 1 to book seats\n",
            "Enter 2 to unbook seats\n",
            "Enter 3 to exit\n",
            "Enter your choice:9\n",
            "Invalid choice.\n",
            "\n",
            " Welcome to ABC Restaurant. You can book your table.\n",
            "Enter 1 to book seats\n",
            "Enter 2 to unbook seats\n",
            "Enter 3 to exit\n",
            "Enter your choice:1\n",
            "Enter the number of seats you want to book :9\n",
            "9 seat(s) are suceessfully booked. Total seats booked are 11\n",
            "Wish you happy time\n",
            "\n",
            " Welcome to ABC Restaurant. You can book your table.\n",
            "Enter 1 to book seats\n",
            "Enter 2 to unbook seats\n",
            "Enter 3 to exit\n",
            "Enter your choice:3\n",
            "Thank you\n"
          ]
        }
      ]
    }
  ],
  "metadata": {
    "colab": {
      "provenance": [],
      "authorship_tag": "ABX9TyMZiftd4D/z3cqujcctXuWo",
      "include_colab_link": true
    },
    "kernelspec": {
      "display_name": "Python 3",
      "name": "python3"
    },
    "language_info": {
      "name": "python"
    }
  },
  "nbformat": 4,
  "nbformat_minor": 0
}